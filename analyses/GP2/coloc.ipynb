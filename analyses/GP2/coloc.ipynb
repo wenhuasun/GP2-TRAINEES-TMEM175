{
 "cells": [
  {
   "cell_type": "markdown",
   "id": "8997f5ed-b70e-4187-b978-65e229040660",
   "metadata": {},
   "source": [
    "Loading Python libraries"
   ]
  },
  {
   "cell_type": "code",
   "execution_count": null,
   "id": "f61841be-ff2a-40a1-ba56-165dbe92e551",
   "metadata": {},
   "outputs": [],
   "source": [
    "# Use pathlib for file path manipulation\n",
    "import pathlib\n",
    "\n",
    "# Install numpy\n",
    "import numpy as np\n",
    "\n",
    "# Install Pandas for tabular data\n",
    "import pandas as pd\n",
    "\n",
    "# Install plotnine: a ggplot2-compatible Python plotting package\n",
    "from plotnine import *\n",
    "\n",
    "# Always show all columns in a Pandas DataFrame\n",
    "pd.set_option('display.max_columns', None)"
   ]
  },
  {
   "cell_type": "code",
   "execution_count": 2,
   "id": "b8a04eff-e59f-4938-8077-6b50689c3da6",
   "metadata": {
    "collapsed": true,
    "jupyter": {
     "outputs_hidden": true
    }
   },
   "outputs": [
    {
     "name": "stdout",
     "output_type": "stream",
     "text": [
      "Requirement already satisfied: rpy2 in /opt/conda/lib/python3.10/site-packages (3.6.1)\n",
      "Requirement already satisfied: rpy2-rinterface>=3.6.1 in /opt/conda/lib/python3.10/site-packages (from rpy2) (3.6.1)\n",
      "Requirement already satisfied: rpy2-robjects>=3.6.1 in /opt/conda/lib/python3.10/site-packages (from rpy2) (3.6.1)\n",
      "Requirement already satisfied: cffi>=1.15.1 in /opt/conda/lib/python3.10/site-packages (from rpy2-rinterface>=3.6.1->rpy2) (1.17.1)\n",
      "Requirement already satisfied: jinja2 in /opt/conda/lib/python3.10/site-packages (from rpy2-robjects>=3.6.1->rpy2) (3.1.6)\n",
      "Requirement already satisfied: tzlocal in /opt/conda/lib/python3.10/site-packages (from rpy2-robjects>=3.6.1->rpy2) (5.3.1)\n",
      "Requirement already satisfied: pycparser in /opt/conda/lib/python3.10/site-packages (from cffi>=1.15.1->rpy2-rinterface>=3.6.1->rpy2) (2.22)\n",
      "Requirement already satisfied: MarkupSafe>=2.0 in /opt/conda/lib/python3.10/site-packages (from jinja2->rpy2-robjects>=3.6.1->rpy2) (3.0.2)\n",
      "Note: you may need to restart the kernel to use updated packages.\n"
     ]
    },
    {
     "name": "stderr",
     "output_type": "stream",
     "text": [
      "/opt/conda/lib/python3.10/site-packages/rpy2/rinterface/__init__.py:1211: UserWarning: Environment variable \"R_SESSION_TMPDIR\" redefined by R and overriding existing variable. Current: \"/tmp/Rtmpp4shBu\", R: \"/tmp/Rtmph1iW5c\"\n"
     ]
    }
   ],
   "source": [
    "# load R environment\n",
    "%pip install rpy2\n",
    "%load_ext rpy2.ipython"
   ]
  },
  {
   "cell_type": "code",
   "execution_count": 3,
   "id": "964d1d73-5bae-44aa-aa14-b06a4355c2e5",
   "metadata": {},
   "outputs": [],
   "source": [
    "# sumstats file /home/jupyter/workspace/ws_files/SCARB2/SCARB2_EUR/EUR.all_adj.sumstats.ma\n",
    "# eqtl file https://www.eqtlgen.org/cis-eqtls.html"
   ]
  },
  {
   "cell_type": "code",
   "execution_count": 3,
   "id": "fc6336f1-2f5c-4c38-b256-7c5a53333451",
   "metadata": {},
   "outputs": [
    {
     "data": {
      "text/plain": [
       "data.table 1.17.8 using 48 threads (see ?getDTthreads).  Latest news: r-datatable.com\n",
       "\n",
       "Attaching package: ‘dplyr’\n",
       "\n",
       "The following objects are masked from ‘package:data.table’:\n",
       "\n",
       "    between, first, last\n",
       "\n",
       "The following objects are masked from ‘package:stats’:\n",
       "\n",
       "    filter, lag\n",
       "\n",
       "The following objects are masked from ‘package:base’:\n",
       "\n",
       "    intersect, setdiff, setequal, union\n",
       "\n",
       "This is coloc version 5.2.3\n"
      ]
     },
     "metadata": {},
     "output_type": "display_data"
    }
   ],
   "source": [
    "%%R\n",
    "\n",
    "############################################################\n",
    "## 0) Packages (Bioconductor for liftOver)\n",
    "############################################################\n",
    "#install.packages(\"data.table\"); install.packages(\"dplyr\"); install.packages(\"tidyr\")\n",
    "#BiocManager::install(c(\"rtracklayer\",\"GenomicRanges\",\"coloc\"))\n",
    "\n",
    "library(data.table)\n",
    "library(dplyr)\n",
    "library(tidyr)\n",
    "library(coloc)"
   ]
  },
  {
   "cell_type": "code",
   "execution_count": 19,
   "id": "ac38cef8-8449-43cb-b456-75717f4ce586",
   "metadata": {
    "collapsed": true,
    "jupyter": {
     "outputs_hidden": true
    }
   },
   "outputs": [
    {
     "name": "stderr",
     "output_type": "stream",
     "text": [
      "* installing *source* package ‘irlba’ ...\n",
      "** package ‘irlba’ successfully unpacked and MD5 sums checked\n",
      "** using staged installation\n",
      "** libs\n",
      "using C compiler: ‘x86_64-conda-linux-gnu-cc (conda-forge gcc 14.2.0-2) 14.2.0’\n"
     ]
    },
    {
     "name": "stdout",
     "output_type": "stream",
     "text": [
      "x86_64-conda-linux-gnu-cc -I\"/opt/conda/lib/R/include\" -DNDEBUG  -I'/opt/conda/lib/R/library/Matrix/include' -DNDEBUG -D_FORTIFY_SOURCE=2 -O2 -isystem /opt/conda/include -I/opt/conda/include -Wl,-rpath-link,/opt/conda/lib    -fpic  -march=nocona -mtune=haswell -ftree-vectorize -fPIC -fstack-protector-strong -fno-plt -O2 -ffunction-sections -pipe -isystem /opt/conda/include -fdebug-prefix-map=/home/conda/feedstock_root/build_artifacts/r-base-split_1734381570424/work=/usr/local/src/conda/r-base-4.4.2 -fdebug-prefix-map=/opt/conda=/usr/local/src/conda-prefix  -c irlb.c -o irlb.o\n",
      "x86_64-conda-linux-gnu-cc -I\"/opt/conda/lib/R/include\" -DNDEBUG  -I'/opt/conda/lib/R/library/Matrix/include' -DNDEBUG -D_FORTIFY_SOURCE=2 -O2 -isystem /opt/conda/include -I/opt/conda/include -Wl,-rpath-link,/opt/conda/lib    -fpic  -march=nocona -mtune=haswell -ftree-vectorize -fPIC -fstack-protector-strong -fno-plt -O2 -ffunction-sections -pipe -isystem /opt/conda/include -fdebug-prefix-map=/home/conda/feedstock_root/build_artifacts/r-base-split_1734381570424/work=/usr/local/src/conda/r-base-4.4.2 -fdebug-prefix-map=/opt/conda=/usr/local/src/conda-prefix  -c utility.c -o utility.o\n",
      "x86_64-conda-linux-gnu-cc -shared -L/opt/conda/lib/R/lib -Wl,-O2 -Wl,--sort-common -Wl,--as-needed -Wl,-z,relro -Wl,-z,now -Wl,--disable-new-dtags -Wl,--gc-sections -Wl,--allow-shlib-undefined -Wl,-rpath,/opt/conda/lib -Wl,-rpath-link,/opt/conda/lib -L/opt/conda/lib -o irlba.so irlb.o utility.o -llapack -lblas -lgfortran -lm -lquadmath -L/opt/conda/lib/R/lib -lR\n"
     ]
    },
    {
     "name": "stderr",
     "output_type": "stream",
     "text": [
      "installing to /opt/conda/lib/R/library/00LOCK-irlba/00new/irlba/libs\n",
      "** R\n",
      "** inst\n",
      "** byte-compile and prepare package for lazy loading\n"
     ]
    },
    {
     "name": "stdout",
     "output_type": "stream",
     "text": [
      "Warning message:\n",
      "package ‘Matrix’ was built under R version 4.4.3 \n"
     ]
    },
    {
     "name": "stderr",
     "output_type": "stream",
     "text": [
      "** help\n",
      "*** installing help indices\n",
      "** building package indices\n",
      "** installing vignettes\n",
      "** testing if installed package can be loaded from temporary location\n"
     ]
    },
    {
     "name": "stdout",
     "output_type": "stream",
     "text": [
      "Warning: package ‘Matrix’ was built under R version 4.4.3\n"
     ]
    },
    {
     "name": "stderr",
     "output_type": "stream",
     "text": [
      "** checking absolute paths in shared objects and dynamic libraries\n",
      "** testing if installed package can be loaded from final location\n"
     ]
    },
    {
     "name": "stdout",
     "output_type": "stream",
     "text": [
      "Warning: package ‘Matrix’ was built under R version 4.4.3\n"
     ]
    },
    {
     "name": "stderr",
     "output_type": "stream",
     "text": [
      "** testing if installed package keeps a record of temporary installation path\n",
      "* DONE (irlba)\n",
      "* installing *source* package ‘RcppArmadillo’ ...\n",
      "** package ‘RcppArmadillo’ successfully unpacked and MD5 sums checked\n",
      "** using staged installation\n"
     ]
    },
    {
     "name": "stdout",
     "output_type": "stream",
     "text": [
      "checking whether the C++ compiler works... yes\n",
      "checking for C++ compiler default output file name... a.out\n",
      "checking for suffix of executables... \n",
      "noecking whether we are cross compiling... \n",
      "checking for suffix of object files... o\n",
      "checking whether the compiler supports GNU C++... yes\n",
      "checking whether x86_64-conda-linux-gnu-c++ -std=gnu++17 accepts -g... yes\n",
      "none neededr x86_64-conda-linux-gnu-c++ -std=gnu++17 option to enable C++11 features... \n",
      "checking how to run the C++ preprocessor... x86_64-conda-linux-gnu-c++ -std=gnu++17 -E\n",
      "checking whether the compiler supports GNU C++... (cached) yes\n",
      "checking whether x86_64-conda-linux-gnu-c++ -std=gnu++17 accepts -g... (cached) yes\n",
      "checking for x86_64-conda-linux-gnu-c++ -std=gnu++17 option to enable C++11 features... (cached) none needed\n",
      "/tmpking whether we have a suitable tempdir... \n",
      "yescking whether R CMD SHLIB can already compile programs using OpenMP... \n",
      "checking LAPACK_LIBS... system LAPACK found\n",
      "configure: creating ./config.status\n",
      "config.status: creating inst/include/RcppArmadillo/config/RcppArmadilloConfigGenerated.h\n",
      "config.status: creating src/Makevars\n",
      "x86_64-conda-linux-gnu-c++ -std=gnu++17 -I\"/opt/conda/lib/R/include\" -DNDEBUG -I../inst/include -DARMA_USE_CURRENT -I'/opt/conda/lib/R/library/Rcpp/include' -DNDEBUG -D_FORTIFY_SOURCE=2 -O2 -isystem /opt/conda/include -I/opt/conda/include -Wl,-rpath-link,/opt/conda/lib   -fopenmp -fpic  -fvisibility-inlines-hidden  -fmessage-length=0 -march=nocona -mtune=haswell -ftree-vectorize -fPIC -fstack-protector-strong -fno-plt -O2 -ffunction-sections -pipe -isystem /opt/conda/include -fdebug-prefix-map=/home/conda/feedstock_root/build_artifacts/r-base-split_1734381570424/work=/usr/local/src/conda/r-base-4.4.2 -fdebug-prefix-map=/opt/conda=/usr/local/src/conda-prefix   -c RcppArmadillo.cpp -o RcppArmadillo.o\n"
     ]
    },
    {
     "name": "stderr",
     "output_type": "stream",
     "text": [
      "** libs\n",
      "using C++ compiler: ‘x86_64-conda-linux-gnu-c++ (conda-forge gcc 14.2.0-2) 14.2.0’\n"
     ]
    },
    {
     "name": "stdout",
     "output_type": "stream",
     "text": [
      "x86_64-conda-linux-gnu-c++ -std=gnu++17 -I\"/opt/conda/lib/R/include\" -DNDEBUG -I../inst/include -DARMA_USE_CURRENT -I'/opt/conda/lib/R/library/Rcpp/include' -DNDEBUG -D_FORTIFY_SOURCE=2 -O2 -isystem /opt/conda/include -I/opt/conda/include -Wl,-rpath-link,/opt/conda/lib   -fopenmp -fpic  -fvisibility-inlines-hidden  -fmessage-length=0 -march=nocona -mtune=haswell -ftree-vectorize -fPIC -fstack-protector-strong -fno-plt -O2 -ffunction-sections -pipe -isystem /opt/conda/include -fdebug-prefix-map=/home/conda/feedstock_root/build_artifacts/r-base-split_1734381570424/work=/usr/local/src/conda/r-base-4.4.2 -fdebug-prefix-map=/opt/conda=/usr/local/src/conda-prefix   -c RcppExports.cpp -o RcppExports.o\n",
      "x86_64-conda-linux-gnu-c++ -std=gnu++17 -I\"/opt/conda/lib/R/include\" -DNDEBUG -I../inst/include -DARMA_USE_CURRENT -I'/opt/conda/lib/R/library/Rcpp/include' -DNDEBUG -D_FORTIFY_SOURCE=2 -O2 -isystem /opt/conda/include -I/opt/conda/include -Wl,-rpath-link,/opt/conda/lib   -fopenmp -fpic  -fvisibility-inlines-hidden  -fmessage-length=0 -march=nocona -mtune=haswell -ftree-vectorize -fPIC -fstack-protector-strong -fno-plt -O2 -ffunction-sections -pipe -isystem /opt/conda/include -fdebug-prefix-map=/home/conda/feedstock_root/build_artifacts/r-base-split_1734381570424/work=/usr/local/src/conda/r-base-4.4.2 -fdebug-prefix-map=/opt/conda=/usr/local/src/conda-prefix   -c fastLm.cpp -o fastLm.o\n",
      "x86_64-conda-linux-gnu-c++ -std=gnu++17 -shared -L/opt/conda/lib/R/lib -Wl,-O2 -Wl,--sort-common -Wl,--as-needed -Wl,-z,relro -Wl,-z,now -Wl,--disable-new-dtags -Wl,--gc-sections -Wl,--allow-shlib-undefined -Wl,-rpath,/opt/conda/lib -Wl,-rpath-link,/opt/conda/lib -L/opt/conda/lib -o RcppArmadillo.so RcppArmadillo.o RcppExports.o fastLm.o -fopenmp -llapack -lblas -lgfortran -lm -lquadmath -L/opt/conda/lib/R/lib -lR\n"
     ]
    },
    {
     "name": "stderr",
     "output_type": "stream",
     "text": [
      "installing to /opt/conda/lib/R/library/00LOCK-RcppArmadillo/00new/RcppArmadillo/libs\n",
      "** R\n",
      "** inst\n",
      "** byte-compile and prepare package for lazy loading\n",
      "** help\n",
      "*** installing help indices\n",
      "** building package indices\n",
      "** installing vignettes\n",
      "** testing if installed package can be loaded from temporary location\n",
      "** checking absolute paths in shared objects and dynamic libraries\n",
      "** testing if installed package can be loaded from final location\n",
      "** testing if installed package keeps a record of temporary installation path\n",
      "* DONE (RcppArmadillo)\n",
      "* installing *source* package ‘gridExtra’ ...\n",
      "** package ‘gridExtra’ successfully unpacked and MD5 sums checked\n",
      "** using staged installation\n",
      "** R\n",
      "** inst\n",
      "** byte-compile and prepare package for lazy loading\n",
      "** help\n",
      "*** installing help indices\n",
      "** building package indices\n",
      "** installing vignettes\n",
      "** testing if installed package can be loaded from temporary location\n",
      "** testing if installed package can be loaded from final location\n",
      "** testing if installed package keeps a record of temporary installation path\n",
      "* DONE (gridExtra)\n",
      "* installing *source* package ‘reshape’ ...\n",
      "** package ‘reshape’ successfully unpacked and MD5 sums checked\n",
      "** using staged installation\n",
      "** R\n",
      "** data\n",
      "*** moving datasets to lazyload DB\n",
      "** inst\n",
      "** byte-compile and prepare package for lazy loading\n",
      "** help\n",
      "*** installing help indices\n",
      "** building package indices\n",
      "** testing if installed package can be loaded from temporary location\n",
      "** testing if installed package can be loaded from final location\n",
      "** testing if installed package keeps a record of temporary installation path\n",
      "* DONE (reshape)\n",
      "* installing *source* package ‘mixsqp’ ...\n",
      "** package ‘mixsqp’ successfully unpacked and MD5 sums checked\n",
      "** using staged installation\n",
      "** libs\n",
      "using C++ compiler: ‘x86_64-conda-linux-gnu-c++ (conda-forge gcc 14.2.0-2) 14.2.0’\n"
     ]
    },
    {
     "name": "stdout",
     "output_type": "stream",
     "text": [
      "x86_64-conda-linux-gnu-c++ -std=gnu++17 -I\"/opt/conda/lib/R/include\" -DNDEBUG  -I'/opt/conda/lib/R/library/Rcpp/include' -I'/opt/conda/lib/R/library/RcppArmadillo/include' -DNDEBUG -D_FORTIFY_SOURCE=2 -O2 -isystem /opt/conda/include -I/opt/conda/include -Wl,-rpath-link,/opt/conda/lib   -fopenmp -DARMA_DONT_PRINT_ERRORS -DARMA_NO_DEBUG -DARMA_USE_BLAS -DARMA_DONT_USE_OPENMP -DARMA_WARN_LEVEL=1 -fpic  -fvisibility-inlines-hidden  -fmessage-length=0 -march=nocona -mtune=haswell -ftree-vectorize -fPIC -fstack-protector-strong -fno-plt -O2 -ffunction-sections -pipe -isystem /opt/conda/include -fdebug-prefix-map=/home/conda/feedstock_root/build_artifacts/r-base-split_1734381570424/work=/usr/local/src/conda/r-base-4.4.2 -fdebug-prefix-map=/opt/conda=/usr/local/src/conda-prefix   -c RcppExports.cpp -o RcppExports.o\n"
     ]
    },
    {
     "name": "stderr",
     "output_type": "stream",
     "text": [
      "In file included from /opt/conda/lib/R/library/RcppArmadillo/include/RcppArmadillo.h:29,\n",
      "                 from RcppExports.cpp:4:\n",
      "/opt/conda/lib/R/library/RcppArmadillo/include/RcppArmadillo/version/arma.h:71:153: note: '#pragma message: Using fallback compilation with Armadillo 14.6.3. Please consider defining -DARMA_USE_CURRENT. See GitHub issue #475 for more.'\n",
      "   71 |         #pragma message(\"Using fallback compilation with Armadillo 14.6.3. Please consider defining -DARMA_USE_CURRENT. See GitHub issue #475 for more.\")\n",
      "      |                                                                                                                                                         ^\n"
     ]
    },
    {
     "name": "stdout",
     "output_type": "stream",
     "text": [
      "x86_64-conda-linux-gnu-c++ -std=gnu++17 -I\"/opt/conda/lib/R/include\" -DNDEBUG  -I'/opt/conda/lib/R/library/Rcpp/include' -I'/opt/conda/lib/R/library/RcppArmadillo/include' -DNDEBUG -D_FORTIFY_SOURCE=2 -O2 -isystem /opt/conda/include -I/opt/conda/include -Wl,-rpath-link,/opt/conda/lib   -fopenmp -DARMA_DONT_PRINT_ERRORS -DARMA_NO_DEBUG -DARMA_USE_BLAS -DARMA_DONT_USE_OPENMP -DARMA_WARN_LEVEL=1 -fpic  -fvisibility-inlines-hidden  -fmessage-length=0 -march=nocona -mtune=haswell -ftree-vectorize -fPIC -fstack-protector-strong -fno-plt -O2 -ffunction-sections -pipe -isystem /opt/conda/include -fdebug-prefix-map=/home/conda/feedstock_root/build_artifacts/r-base-split_1734381570424/work=/usr/local/src/conda/r-base-4.4.2 -fdebug-prefix-map=/opt/conda=/usr/local/src/conda-prefix   -c misc.cpp -o misc.o\n"
     ]
    },
    {
     "name": "stderr",
     "output_type": "stream",
     "text": [
      "In file included from /opt/conda/lib/R/library/RcppArmadillo/include/RcppArmadillo.h:29,\n",
      "                 from misc.h:4,\n",
      "                 from misc.cpp:1:\n",
      "/opt/conda/lib/R/library/RcppArmadillo/include/RcppArmadillo/version/arma.h:71:153: note: '#pragma message: Using fallback compilation with Armadillo 14.6.3. Please consider defining -DARMA_USE_CURRENT. See GitHub issue #475 for more.'\n",
      "   71 |         #pragma message(\"Using fallback compilation with Armadillo 14.6.3. Please consider defining -DARMA_USE_CURRENT. See GitHub issue #475 for more.\")\n",
      "      |                                                                                                                                                         ^\n"
     ]
    },
    {
     "name": "stdout",
     "output_type": "stream",
     "text": [
      "x86_64-conda-linux-gnu-c++ -std=gnu++17 -I\"/opt/conda/lib/R/include\" -DNDEBUG  -I'/opt/conda/lib/R/library/Rcpp/include' -I'/opt/conda/lib/R/library/RcppArmadillo/include' -DNDEBUG -D_FORTIFY_SOURCE=2 -O2 -isystem /opt/conda/include -I/opt/conda/include -Wl,-rpath-link,/opt/conda/lib   -fopenmp -DARMA_DONT_PRINT_ERRORS -DARMA_NO_DEBUG -DARMA_USE_BLAS -DARMA_DONT_USE_OPENMP -DARMA_WARN_LEVEL=1 -fpic  -fvisibility-inlines-hidden  -fmessage-length=0 -march=nocona -mtune=haswell -ftree-vectorize -fPIC -fstack-protector-strong -fno-plt -O2 -ffunction-sections -pipe -isystem /opt/conda/include -fdebug-prefix-map=/home/conda/feedstock_root/build_artifacts/r-base-split_1734381570424/work=/usr/local/src/conda/r-base-4.4.2 -fdebug-prefix-map=/opt/conda=/usr/local/src/conda-prefix   -c mixem.cpp -o mixem.o\n"
     ]
    },
    {
     "name": "stderr",
     "output_type": "stream",
     "text": [
      "In file included from /opt/conda/lib/R/library/RcppArmadillo/include/RcppArmadillo.h:29,\n",
      "                 from mixem.h:4,\n",
      "                 from mixem.cpp:1:\n",
      "/opt/conda/lib/R/library/RcppArmadillo/include/RcppArmadillo/version/arma.h:71:153: note: '#pragma message: Using fallback compilation with Armadillo 14.6.3. Please consider defining -DARMA_USE_CURRENT. See GitHub issue #475 for more.'\n",
      "   71 |         #pragma message(\"Using fallback compilation with Armadillo 14.6.3. Please consider defining -DARMA_USE_CURRENT. See GitHub issue #475 for more.\")\n",
      "      |                                                                                                                                                         ^\n"
     ]
    },
    {
     "name": "stdout",
     "output_type": "stream",
     "text": [
      "x86_64-conda-linux-gnu-c++ -std=gnu++17 -I\"/opt/conda/lib/R/include\" -DNDEBUG  -I'/opt/conda/lib/R/library/Rcpp/include' -I'/opt/conda/lib/R/library/RcppArmadillo/include' -DNDEBUG -D_FORTIFY_SOURCE=2 -O2 -isystem /opt/conda/include -I/opt/conda/include -Wl,-rpath-link,/opt/conda/lib   -fopenmp -DARMA_DONT_PRINT_ERRORS -DARMA_NO_DEBUG -DARMA_USE_BLAS -DARMA_DONT_USE_OPENMP -DARMA_WARN_LEVEL=1 -fpic  -fvisibility-inlines-hidden  -fmessage-length=0 -march=nocona -mtune=haswell -ftree-vectorize -fPIC -fstack-protector-strong -fno-plt -O2 -ffunction-sections -pipe -isystem /opt/conda/include -fdebug-prefix-map=/home/conda/feedstock_root/build_artifacts/r-base-split_1734381570424/work=/usr/local/src/conda/r-base-4.4.2 -fdebug-prefix-map=/opt/conda=/usr/local/src/conda-prefix   -c mixsqp.cpp -o mixsqp.o\n"
     ]
    },
    {
     "name": "stderr",
     "output_type": "stream",
     "text": [
      "mixsqp.cpp:3:9: warning: \"ARMA_DONT_PRINT_ERRORS\" redefined\n",
      "    3 | #define ARMA_DONT_PRINT_ERRORS\n",
      "      |         ^~~~~~~~~~~~~~~~~~~~~~\n",
      "<command-line>: note: this is the location of the previous definition\n",
      "In file included from /opt/conda/lib/R/library/RcppArmadillo/include/RcppArmadillo.h:29,\n",
      "                 from objective.h:4,\n",
      "                 from mixsqp.cpp:5:\n",
      "/opt/conda/lib/R/library/RcppArmadillo/include/RcppArmadillo/version/arma.h:71:153: note: '#pragma message: Using fallback compilation with Armadillo 14.6.3. Please consider defining -DARMA_USE_CURRENT. See GitHub issue #475 for more.'\n",
      "   71 |         #pragma message(\"Using fallback compilation with Armadillo 14.6.3. Please consider defining -DARMA_USE_CURRENT. See GitHub issue #475 for more.\")\n",
      "      |                                                                                                                                                         ^\n"
     ]
    },
    {
     "name": "stdout",
     "output_type": "stream",
     "text": [
      "x86_64-conda-linux-gnu-c++ -std=gnu++17 -I\"/opt/conda/lib/R/include\" -DNDEBUG  -I'/opt/conda/lib/R/library/Rcpp/include' -I'/opt/conda/lib/R/library/RcppArmadillo/include' -DNDEBUG -D_FORTIFY_SOURCE=2 -O2 -isystem /opt/conda/include -I/opt/conda/include -Wl,-rpath-link,/opt/conda/lib   -fopenmp -DARMA_DONT_PRINT_ERRORS -DARMA_NO_DEBUG -DARMA_USE_BLAS -DARMA_DONT_USE_OPENMP -DARMA_WARN_LEVEL=1 -fpic  -fvisibility-inlines-hidden  -fmessage-length=0 -march=nocona -mtune=haswell -ftree-vectorize -fPIC -fstack-protector-strong -fno-plt -O2 -ffunction-sections -pipe -isystem /opt/conda/include -fdebug-prefix-map=/home/conda/feedstock_root/build_artifacts/r-base-split_1734381570424/work=/usr/local/src/conda/r-base-4.4.2 -fdebug-prefix-map=/opt/conda=/usr/local/src/conda-prefix   -c objective.cpp -o objective.o\n"
     ]
    },
    {
     "name": "stderr",
     "output_type": "stream",
     "text": [
      "In file included from /opt/conda/lib/R/library/RcppArmadillo/include/RcppArmadillo.h:29,\n",
      "                 from objective.h:4,\n",
      "                 from objective.cpp:1:\n",
      "/opt/conda/lib/R/library/RcppArmadillo/include/RcppArmadillo/version/arma.h:71:153: note: '#pragma message: Using fallback compilation with Armadillo 14.6.3. Please consider defining -DARMA_USE_CURRENT. See GitHub issue #475 for more.'\n",
      "   71 |         #pragma message(\"Using fallback compilation with Armadillo 14.6.3. Please consider defining -DARMA_USE_CURRENT. See GitHub issue #475 for more.\")\n",
      "      |                                                                                                                                                         ^\n"
     ]
    },
    {
     "name": "stdout",
     "output_type": "stream",
     "text": [
      "x86_64-conda-linux-gnu-c++ -std=gnu++17 -shared -L/opt/conda/lib/R/lib -Wl,-O2 -Wl,--sort-common -Wl,--as-needed -Wl,-z,relro -Wl,-z,now -Wl,--disable-new-dtags -Wl,--gc-sections -Wl,--allow-shlib-undefined -Wl,-rpath,/opt/conda/lib -Wl,-rpath-link,/opt/conda/lib -L/opt/conda/lib -o mixsqp.so RcppExports.o misc.o mixem.o mixsqp.o objective.o -fopenmp -llapack -lblas -lgfortran -lm -lquadmath -L/opt/conda/lib/R/lib -lR\n"
     ]
    },
    {
     "name": "stderr",
     "output_type": "stream",
     "text": [
      "installing to /opt/conda/lib/R/library/00LOCK-mixsqp/00new/mixsqp/libs\n",
      "** R\n",
      "** data\n",
      "*** moving datasets to lazyload DB\n",
      "** inst\n",
      "** byte-compile and prepare package for lazy loading\n",
      "** help\n",
      "*** installing help indices\n",
      "** building package indices\n",
      "** installing vignettes\n",
      "** testing if installed package can be loaded from temporary location\n",
      "** checking absolute paths in shared objects and dynamic libraries\n",
      "** testing if installed package can be loaded from final location\n",
      "** testing if installed package keeps a record of temporary installation path\n",
      "* DONE (mixsqp)\n",
      "* installing *source* package ‘viridis’ ...\n",
      "** package ‘viridis’ successfully unpacked and MD5 sums checked\n",
      "** using staged installation\n",
      "** R\n",
      "** data\n",
      "*** moving datasets to lazyload DB\n",
      "** inst\n",
      "** byte-compile and prepare package for lazy loading\n",
      "** help\n",
      "*** installing help indices\n",
      "*** copying figures\n",
      "** building package indices\n",
      "** installing vignettes\n",
      "** testing if installed package can be loaded from temporary location\n",
      "** testing if installed package can be loaded from final location\n",
      "** testing if installed package keeps a record of temporary installation path\n",
      "* DONE (viridis)\n",
      "* installing *source* package ‘susieR’ ...\n",
      "** package ‘susieR’ successfully unpacked and MD5 sums checked\n",
      "** using staged installation\n",
      "** R\n",
      "** data\n",
      "*** moving datasets to lazyload DB\n",
      "** inst\n",
      "** byte-compile and prepare package for lazy loading\n",
      "** help\n",
      "*** installing help indices\n",
      "** building package indices\n",
      "** installing vignettes\n",
      "** testing if installed package can be loaded from temporary location\n",
      "** testing if installed package can be loaded from final location\n",
      "** testing if installed package keeps a record of temporary installation path\n",
      "* DONE (susieR)\n",
      "* installing *source* package ‘coloc’ ...\n",
      "** package ‘coloc’ successfully unpacked and MD5 sums checked\n",
      "** using staged installation\n",
      "** R\n",
      "** data\n",
      "** inst\n",
      "** byte-compile and prepare package for lazy loading\n",
      "** help\n",
      "*** installing help indices\n",
      "*** copying figures\n",
      "** building package indices\n",
      "** installing vignettes\n",
      "** testing if installed package can be loaded from temporary location\n",
      "** testing if installed package can be loaded from final location\n",
      "** testing if installed package keeps a record of temporary installation path\n",
      "* DONE (coloc)\n"
     ]
    },
    {
     "name": "stdout",
     "output_type": "stream",
     "text": [
      "Update all/some/none? [a/s/n]: "
     ]
    },
    {
     "name": "stdin",
     "output_type": "stream",
     "text": [
      " n\n"
     ]
    },
    {
     "data": {
      "text/plain": [
       "'getOption(\"repos\")' replaces Bioconductor standard repositories, see\n",
       "'help(\"repositories\", package = \"BiocManager\")' for details.\n",
       "Replacement repositories:\n",
       "    CRAN: https://ftp.fau.de/cran\n",
       "Bioconductor version 3.20 (BiocManager 1.30.26), R 4.4.2 (2024-10-31)\n",
       "Installing package(s) 'coloc'\n",
       "also installing the dependencies ‘irlba’, ‘RcppArmadillo’, ‘gridExtra’, ‘mixsqp’, ‘reshape’, ‘viridis’, ‘susieR’\n",
       "\n",
       "trying URL 'https://ftp.fau.de/cran/src/contrib/irlba_2.3.5.1.tar.gz'\n",
       "Content type 'application/x-gzip' length 233555 bytes (228 KB)\n",
       "==================================================\n",
       "downloaded 228 KB\n",
       "\n",
       "trying URL 'https://ftp.fau.de/cran/src/contrib/RcppArmadillo_15.0.1-1.tar.gz'\n",
       "Content type 'application/x-gzip' length 2115780 bytes (2.0 MB)\n",
       "==================================================\n",
       "downloaded 2.0 MB\n",
       "\n",
       "trying URL 'https://ftp.fau.de/cran/src/contrib/gridExtra_2.3.tar.gz'\n",
       "Content type 'application/x-gzip' length 1062844 bytes (1.0 MB)\n",
       "==================================================\n",
       "downloaded 1.0 MB\n",
       "\n",
       "trying URL 'https://ftp.fau.de/cran/src/contrib/mixsqp_0.3-54.tar.gz'\n",
       "Content type 'application/x-gzip' length 221349 bytes (216 KB)\n",
       "==================================================\n",
       "downloaded 216 KB\n",
       "\n",
       "trying URL 'https://ftp.fau.de/cran/src/contrib/reshape_0.8.10.tar.gz'\n",
       "Content type 'application/x-gzip' length 42889 bytes (41 KB)\n",
       "==================================================\n",
       "downloaded 41 KB\n",
       "\n",
       "trying URL 'https://ftp.fau.de/cran/src/contrib/viridis_0.6.5.tar.gz'\n",
       "Content type 'application/x-gzip' length 3047363 bytes (2.9 MB)\n",
       "==================================================\n",
       "downloaded 2.9 MB\n",
       "\n",
       "trying URL 'https://ftp.fau.de/cran/src/contrib/susieR_0.14.2.tar.gz'\n",
       "Content type 'application/x-gzip' length 2303754 bytes (2.2 MB)\n",
       "==================================================\n",
       "downloaded 2.2 MB\n",
       "\n",
       "trying URL 'https://ftp.fau.de/cran/src/contrib/coloc_5.2.3.tar.gz'\n",
       "Content type 'application/x-gzip' length 3770788 bytes (3.6 MB)\n",
       "==================================================\n",
       "downloaded 3.6 MB\n",
       "\n",
       "\n",
       "The downloaded source packages are in\n",
       "\t‘/tmp/Rtmp391Kwg/downloaded_packages’\n",
       "Updating HTML index of packages in '.Library'\n",
       "Making 'packages.html' ... done\n",
       "Old packages: 'broom', 'caret', 'commonmark', 'curl', 'dials', 'doFuture',\n",
       "  'evaluate', 'future', 'gargle', 'googlesheets4', 'gower', 'hardhat', 'haven',\n",
       "  'httpuv', 'infer', 'later', 'MASS', 'Matrix', 'modeldata', 'parallelly',\n",
       "  'parsnip', 'patchwork', 'pillar', 'pROC', 'promises', 'purrr', 'ragg',\n",
       "  'Rcpp', 'readxl', 'rsample', 'rvest', 'shiny', 'textshaping', 'tibble',\n",
       "  'tune', 'utf8', 'workflows', 'xfun', 'xml2'\n",
       "This is coloc version 5.2.3\n"
      ]
     },
     "metadata": {},
     "output_type": "display_data"
    }
   ],
   "source": [
    "%%R\n",
    "\n",
    "############################################################\n",
    "## 0) Packages (Bioconductor for liftOver)\n",
    "############################################################\n",
    "BiocManager::install(\"coloc\")\n",
    "\n",
    "library(coloc)"
   ]
  },
  {
   "cell_type": "code",
   "execution_count": 4,
   "id": "953dd3c1-adb0-4a2e-b369-91f753017617",
   "metadata": {
    "collapsed": true,
    "jupyter": {
     "outputs_hidden": true
    }
   },
   "outputs": [
    {
     "data": {
      "text/plain": [
       "Loading required package: stats4\n",
       "Loading required package: BiocGenerics\n",
       "\n",
       "Attaching package: ‘BiocGenerics’\n",
       "\n",
       "The following objects are masked from ‘package:dplyr’:\n",
       "\n",
       "    combine, intersect, setdiff, union\n",
       "\n",
       "The following objects are masked from ‘package:stats’:\n",
       "\n",
       "    IQR, mad, sd, var, xtabs\n",
       "\n",
       "The following objects are masked from ‘package:base’:\n",
       "\n",
       "    anyDuplicated, aperm, append, as.data.frame, basename, cbind,\n",
       "    colnames, dirname, do.call, duplicated, eval, evalq, Filter, Find,\n",
       "    get, grep, grepl, intersect, is.unsorted, lapply, Map, mapply,\n",
       "    match, mget, order, paste, pmax, pmax.int, pmin, pmin.int,\n",
       "    Position, rank, rbind, Reduce, rownames, sapply, saveRDS, setdiff,\n",
       "    table, tapply, union, unique, unsplit, which.max, which.min\n",
       "\n",
       "Loading required package: S4Vectors\n",
       "\n",
       "Attaching package: ‘S4Vectors’\n",
       "\n",
       "The following object is masked from ‘package:tidyr’:\n",
       "\n",
       "    expand\n",
       "\n",
       "The following objects are masked from ‘package:dplyr’:\n",
       "\n",
       "    first, rename\n",
       "\n",
       "The following objects are masked from ‘package:data.table’:\n",
       "\n",
       "    first, second\n",
       "\n",
       "The following object is masked from ‘package:utils’:\n",
       "\n",
       "    findMatches\n",
       "\n",
       "The following objects are masked from ‘package:base’:\n",
       "\n",
       "    expand.grid, I, unname\n",
       "\n",
       "Loading required package: IRanges\n",
       "\n",
       "Attaching package: ‘IRanges’\n",
       "\n",
       "The following objects are masked from ‘package:dplyr’:\n",
       "\n",
       "    collapse, desc, slice\n",
       "\n",
       "The following object is masked from ‘package:data.table’:\n",
       "\n",
       "    shift\n",
       "\n",
       "Loading required package: GenomeInfoDb\n",
       "Loading required package: Biostrings\n",
       "Loading required package: XVector\n",
       "\n",
       "Attaching package: ‘Biostrings’\n",
       "\n",
       "The following object is masked from ‘package:base’:\n",
       "\n",
       "    strsplit\n",
       "\n",
       "Loading required package: BiocIO\n",
       "\n",
       "Attaching package: ‘BiocIO’\n",
       "\n",
       "The following object is masked from ‘package:rtracklayer’:\n",
       "\n",
       "    FileForFormat\n",
       "\n"
      ]
     },
     "metadata": {},
     "output_type": "display_data"
    }
   ],
   "source": [
    "%%R\n",
    "\n",
    "#install.packages(\"BiocManager\")\n",
    "#BiocManager::install(\"GenomicRanges\")\n",
    "#BiocManager::install(\"rtracklayer\")   # for liftover\n",
    "#BiocManager::install(\"BSgenome\")      # for genome sequences\n",
    "\n",
    "library(GenomicRanges)\n",
    "library(rtracklayer)\n",
    "library(BSgenome)"
   ]
  },
  {
   "cell_type": "code",
   "execution_count": null,
   "id": "4f43c0f8-efb6-47bf-8c28-5beffaf95507",
   "metadata": {},
   "outputs": [],
   "source": [
    "# download eqtl dataset\n",
    "! wget https://molgenis26.gcc.rug.nl/downloads/eqtlgen/cis-eqtl/2019-12-11-cis-eQTLsFDR-ProbeLevel-CohortInfoRemoved-BonferroniAdded.txt.gz -P /home/jupyter/workspace/ws_files/SCARB2/SCARB2_EUR/"
   ]
  },
  {
   "cell_type": "code",
   "execution_count": 24,
   "id": "c969d1cf-00b8-4be6-91c5-c9e0cb4c2ae5",
   "metadata": {
    "collapsed": true,
    "jupyter": {
     "outputs_hidden": true
    }
   },
   "outputs": [
    {
     "name": "stdout",
     "output_type": "stream",
     "text": [
      "--2025-09-04 13:29:15--  http://hgdownload.soe.ucsc.edu/goldenPath/hg38/liftOver/hg38ToHg19.over.chain.gz\n",
      "128.114.119.163nload.soe.ucsc.edu (hgdownload.soe.ucsc.edu)... \n",
      "connected. to hgdownload.soe.ucsc.edu (hgdownload.soe.ucsc.edu)|128.114.119.163|:80... \n",
      "200 OKequest sent, awaiting response... \n",
      "Length: 1246411 (1.2M) [application/x-gzip]\n",
      "Saving to: ‘/home/jupyter/workspace/ws_files/SCARB2/SCARB2_EUR/hg38ToHg19.over.chain.gz.1’\n",
      "\n",
      "hg38ToHg19.over.cha 100%[===================>]   1.19M  1.35MB/s    in 0.9s    \n",
      "\n",
      "2025-09-04 13:29:17 (1.35 MB/s) - ‘/home/jupyter/workspace/ws_files/SCARB2/SCARB2_EUR/hg38ToHg19.over.chain.gz.1’ saved [1246411/1246411]\n",
      "\n"
     ]
    }
   ],
   "source": [
    "! wget http://hgdownload.soe.ucsc.edu/goldenPath/hg38/liftOver/hg38ToHg19.over.chain.gz -P /home/jupyter/workspace/ws_files/SCARB2/SCARB2_EUR/"
   ]
  },
  {
   "cell_type": "code",
   "execution_count": null,
   "id": "30dd11a0-ca93-4d2d-a090-a8b6a4d1ea07",
   "metadata": {},
   "outputs": [],
   "source": [
    "!gunzip -c /home/jupyter/workspace/ws_files/SCARB2/SCARB2_EUR/2019-12-11-cis-eQTLsFDR-ProbeLevel-CohortInfoRemoved-BonferroniAdded.txt.gz > /home/jupyter/workspace/ws_files/SCARB2/SCARB2_EUR/2019-12-11-cis-eQTLsFDR.txt"
   ]
  },
  {
   "cell_type": "code",
   "execution_count": 5,
   "id": "65ba385b-37f4-4b0f-a39a-9a071c10c23d",
   "metadata": {},
   "outputs": [],
   "source": [
    "%%R\n",
    "\n",
    "############################################################\n",
    "## 1) User inputs\n",
    "############################################################\n",
    "# GWAS (GRCh38) summary stats for the SCARB2 region (tsv/csv, can be gz)\n",
    "gwas38_file <- \"/home/jupyter/workspace/ws_files/SCARB2/SCARB2_EUR/sumstats38.txt\"\n",
    "\n",
    "# eQTL (GRCh37) file for your tissue of interest\n",
    "eqtl37_file <- \"/home/jupyter/workspace/ws_files/SCARB2/SCARB2_EUR/eQTL_chr4.txt\"\n",
    "\n",
    "# Chain file for hg38 -> hg19 liftover (download once from UCSC and point here)\n",
    "chain_file <- \"/home/jupyter/workspace/ws_files/SCARB2/SCARB2_EUR/hg38ToHg19.over.chain\""
   ]
  },
  {
   "cell_type": "code",
   "execution_count": 12,
   "id": "36b398ee-13b5-45da-a11b-cb8f464627b7",
   "metadata": {
    "collapsed": true,
    "jupyter": {
     "outputs_hidden": true
    }
   },
   "outputs": [
    {
     "data": {
      "text/plain": [
       "\n",
       "Attaching package: ‘dplyr’\n",
       "\n",
       "The following objects are masked from ‘package:stats’:\n",
       "\n",
       "    filter, lag\n",
       "\n",
       "The following objects are masked from ‘package:base’:\n",
       "\n",
       "    intersect, setdiff, setequal, union\n",
       "\n",
       "data.table 1.17.8 using 2 threads (see ?getDTthreads).  Latest news: r-datatable.com\n",
       "\n",
       "Attaching package: ‘data.table’\n",
       "\n",
       "The following objects are masked from ‘package:dplyr’:\n",
       "\n",
       "    between, first, last\n",
       "\n"
      ]
     },
     "metadata": {},
     "output_type": "display_data"
    }
   ],
   "source": [
    "%%R\n",
    "library(dplyr)\n",
    "library(tidyr)\n",
    "library(data.table)\n",
    "\n",
    "gwas <- fread(gwas38_file)\n",
    "# assuming your dataframe is called gwas\n",
    "gwas <- gwas %>%\n",
    "  tidyr::separate(SNP, into = c(\"CHR\", \"BP\", \"REF\", \"ALT\"), sep = \":\", remove = FALSE) %>%\n",
    "  dplyr::mutate(\n",
    "    CHR = gsub(\"chr\", \"\", CHR),   # remove \"chr\" prefix\n",
    "    CHR = as.integer(CHR),\n",
    "    BP  = as.integer(BP)\n",
    "  )\n",
    "# save as tab-delimited text file\n",
    "fwrite(gwas, \"/home/jupyter/workspace/ws_files/SCARB2/SCARB2_EUR/sumstats38.txt\", sep = \"\\t\", quote = FALSE, row.names = FALSE)"
   ]
  },
  {
   "cell_type": "code",
   "execution_count": 13,
   "id": "35c7c5d2-2b7a-430c-8b25-01eda4f43ce3",
   "metadata": {},
   "outputs": [
    {
     "name": "stdout",
     "output_type": "stream",
     "text": [
      "                SNP CHR       BP REF ALT A1 A2     freq            b        se\n",
      " chr4:76108828:G:T   4 76108828   G   T  T  G 0.398640 -0.008391107 0.0218149\n",
      " chr4:76108858:G:A   4 76108858   G   A  A  G 0.399758 -0.008743110 0.0218039\n",
      " chr4:76108994:G:A   4 76108994   G   A  A  G 0.155533 -0.023170372 0.0294988\n",
      " chr4:76109007:G:A   4 76109007   G   A  A  G 0.154322 -0.020785530 0.0296505\n",
      " chr4:76109102:C:T   4 76109102   C   T  T  C 0.154449 -0.021296162 0.0296293\n",
      " chr4:76109134:C:G   4 76109134   C   G  G  C 0.155423 -0.022029886 0.0295306\n",
      "         p     N\n",
      " 0.700508 26021\n",
      " 0.688416 26027\n",
      " 0.432181 26033\n",
      " 0.483296 26030\n",
      " 0.472298 26028\n",
      " 0.455665 26029\n"
     ]
    }
   ],
   "source": [
    "%%R\n",
    "\n",
    "head(gwas)"
   ]
  },
  {
   "cell_type": "code",
   "execution_count": 9,
   "id": "ae1bc053-b582-412f-b2c6-af9d3b56071b",
   "metadata": {},
   "outputs": [
    {
     "name": "stdout",
     "output_type": "stream",
     "text": [
      "-rw-rw-rw-. 1 jupyter users 13G Sep  4 14:07 /home/jupyter/workspace/ws_files/SCARB2/SCARB2_EUR/2019-12-11-cis-eQTLsFDR.txt\n"
     ]
    }
   ],
   "source": [
    "! ls -lh /home/jupyter/workspace/ws_files/SCARB2/SCARB2_EUR/2019-12-11-cis-eQTLsFDR.txt"
   ]
  },
  {
   "cell_type": "code",
   "execution_count": 6,
   "id": "8b878e10-7c7f-4a4d-9837-981bad9a7cab",
   "metadata": {},
   "outputs": [],
   "source": [
    "%%R\n",
    "\n",
    "# SCARB2 gene & window\n",
    "gene_symbol <- \"SCARB2\"\n",
    "chr38  <- 4                    # SCARB2 chromosome on GRCh38\n",
    "gene_start38 <- 76108737       # <-- put actual GRCh38 start\n",
    "gene_end38   <- 76284536       # <-- put actual GRCh38 end\n",
    "pad <- 1e6\n",
    "\n",
    "region_start38 <- max(1, gene_start38 - pad)\n",
    "region_end38   <- gene_end38 + pad\n",
    "\n",
    "# Case/control numbers for the GWAS (needed for coloc type=\"cc\")\n",
    "n_cases    <- 24208\n",
    "n_controls <- 9662\n",
    "prop_cases <- n_cases / (n_cases + n_controls)\n",
    "\n",
    "# Priors (typical for cis-coloc)\n",
    "p1  <- 1e-4\n",
    "p2  <- 1e-4\n",
    "p12 <- 1e-5\n",
    "\n",
    "# Ensembl ID for SCARB2 (used to filter eQTL)\n",
    "scarb2_ensg <- \"ENSG00000138760\""
   ]
  },
  {
   "cell_type": "code",
   "execution_count": 7,
   "id": "126bc73a-c045-425e-ad1e-284ab603b78d",
   "metadata": {},
   "outputs": [],
   "source": [
    "%%R\n",
    "\n",
    "# 2) Read GWAS (GRCh38) and keep the SCARB2 window\n",
    "\n",
    "gwas38 <- fread(gwas38_file)\n",
    "\n",
    "# Expected columns in GWAS38 (names can vary; rename if needed):\n",
    "# CHR (1..22, X), BP (pos GRCh38), BETA, SE (or P), N (optional), EA, NEA (optional), SNP_ID (optional)\n",
    "# Keep only the window on GRCh38:\n",
    "gwas38_reg <- gwas38 %>%\n",
    "  filter(CHR == chr38, BP >= region_start38, BP <= region_end38)\n",
    "\n",
    "stopifnot(nrow(gwas38_reg) > 0)"
   ]
  },
  {
   "cell_type": "code",
   "execution_count": 8,
   "id": "aabda3c1-0541-401c-9e10-06cce3994da5",
   "metadata": {},
   "outputs": [
    {
     "name": "stdout",
     "output_type": "stream",
     "text": [
      "                 SNP   CHR       BP    REF    ALT     A1     A2     freq\n",
      "            <char> <int>    <int> <char> <char> <char> <char>    <num>\n",
      " chr4:76108828:G:T     4 76108828      G      T      T      G 0.398640\n",
      " chr4:76108858:G:A     4 76108858      G      A      A      G 0.399758\n",
      " chr4:76108994:G:A     4 76108994      G      A      A      G 0.155533\n",
      " chr4:76109007:G:A     4 76109007      G      A      A      G 0.154322\n",
      " chr4:76109102:C:T     4 76109102      C      T      T      C 0.154449\n",
      " chr4:76109134:C:G     4 76109134      C      G      G      C 0.155423\n",
      "              b        se        p     N\n",
      "        <num>     <num>    <num> <int>\n",
      " -0.008391107 0.0218149 0.700508 26021\n",
      " -0.008743110 0.0218039 0.688416 26027\n",
      " -0.023170372 0.0294988 0.432181 26033\n",
      " -0.020785530 0.0296505 0.483296 26030\n",
      " -0.021296162 0.0296293 0.472298 26028\n",
      " -0.022029886 0.0295306 0.455665 26029\n"
     ]
    }
   ],
   "source": [
    "%%R\n",
    "\n",
    "head(gwas38)"
   ]
  },
  {
   "cell_type": "code",
   "execution_count": 33,
   "id": "34f905b9-d778-449c-976c-5b1b7df4f83c",
   "metadata": {
    "collapsed": true,
    "jupyter": {
     "outputs_hidden": true
    }
   },
   "outputs": [
    {
     "name": "stdout",
     "output_type": "stream",
     "text": [
      "--2025-09-04 13:37:02--  http://hgdownload.soe.ucsc.edu/goldenPath/hg38/liftOver/hg38ToHg19.over.chain.gz\n",
      "128.114.119.163nload.soe.ucsc.edu (hgdownload.soe.ucsc.edu)... \n",
      "connected. to hgdownload.soe.ucsc.edu (hgdownload.soe.ucsc.edu)|128.114.119.163|:80... \n",
      "200 OKequest sent, awaiting response... \n",
      "Length: 1246411 (1.2M) [application/x-gzip]\n",
      "Saving to: ‘/home/jupyter/workspace/ws_files/SCARB2/SCARB2_EUR/hg38ToHg19.over.chain.gz’\n",
      "\n",
      "/home/jupyter/works 100%[===================>]   1.19M  1.23MB/s    in 1.0s    \n",
      "\n",
      "2025-09-04 13:37:04 (1.23 MB/s) - ‘/home/jupyter/workspace/ws_files/SCARB2/SCARB2_EUR/hg38ToHg19.over.chain.gz’ saved [1246411/1246411]\n",
      "\n"
     ]
    }
   ],
   "source": [
    "! wget http://hgdownload.soe.ucsc.edu/goldenPath/hg38/liftOver/hg38ToHg19.over.chain.gz \\\n",
    "     -O /home/jupyter/workspace/ws_files/SCARB2/SCARB2_EUR/hg38ToHg19.over.chain.gz"
   ]
  },
  {
   "cell_type": "code",
   "execution_count": 36,
   "id": "5e7e886a-2fde-4792-84f9-9c179a1c540c",
   "metadata": {},
   "outputs": [
    {
     "name": "stdout",
     "output_type": "stream",
     "text": [
      "-rw-rw-rw-. 1 jupyter users 3.8M Sep  4 13:38 /home/jupyter/workspace/ws_files/SCARB2/SCARB2_EUR/hg38ToHg19.over.chain\n"
     ]
    }
   ],
   "source": [
    "! ls -lh /home/jupyter/workspace/ws_files/SCARB2/SCARB2_EUR/hg38ToHg19.over.chain"
   ]
  },
  {
   "cell_type": "code",
   "execution_count": 35,
   "id": "ec1ebd5d-3670-4cdb-a4bb-ee5bc65395d2",
   "metadata": {},
   "outputs": [],
   "source": [
    "# Unzip the chain file\n",
    "! gunzip -c /home/jupyter/workspace/ws_files/SCARB2/SCARB2_EUR/hg38ToHg19.over.chain.gz > /home/jupyter/workspace/ws_files/SCARB2/SCARB2_EUR/hg38ToHg19.over.chain"
   ]
  },
  {
   "cell_type": "code",
   "execution_count": 9,
   "id": "a6fe268e-d034-4470-be2f-9e8b972bab66",
   "metadata": {},
   "outputs": [],
   "source": [
    "%%R\n",
    "\n",
    "## 3) LiftOver GWAS from GRCh38 -> GRCh37\n",
    "# Make GRanges on GRCh38\n",
    "gr38 <- GRanges(\n",
    "  seqnames = paste0(\"chr\", gwas38_reg$CHR),\n",
    "  ranges   = IRanges(start = gwas38_reg$BP, width = 1)\n",
    ")\n",
    "\n",
    "# Load chain and convert\n",
    "ch <- import.chain(chain_file)\n",
    "gr37_list <- liftOver(gr38, ch)\n",
    "\n",
    "# Keep only 1:1 mappings (drop multi-mapped and unmapped)\n",
    "is_one_to_one <- elementNROWS(gr37_list) == 1\n",
    "gr37 <- unlist(gr37_list[is_one_to_one])\n",
    "\n",
    "# Attach back to the data\n",
    "gwas_lifted <- gwas38_reg[is_one_to_one, , drop = FALSE] %>%\n",
    "  mutate(\n",
    "    CHR37 = as.integer(gsub(\"^chr\", \"\", as.character(seqnames(gr37)))),\n",
    "    BP37  = start(gr37)\n",
    "  )\n",
    "\n",
    "# Drop duplicates caused by many-to-one mapping (keep first)\n",
    "gwas_lifted <- gwas_lifted %>%\n",
    "  distinct(CHR37, BP37, .keep_all = TRUE)\n",
    "\n",
    "# Build a GRCh37-style SNP_ID (use REF/ALT if you have them)\n",
    "if(all(c(\"REF\",\"ALT\") %in% names(gwas_lifted))){\n",
    "  gwas_lifted <- gwas_lifted %>%\n",
    "    mutate(SNP_ID37 = paste0(\"chr\", CHR37, \":\", BP37, \":\", REF, \":\", ALT))\n",
    "} else {\n",
    "  gwas_lifted <- gwas_lifted %>%\n",
    "    mutate(SNP_ID37 = paste0(\"chr\", CHR37, \":\", BP37))\n",
    "}"
   ]
  },
  {
   "cell_type": "code",
   "execution_count": 10,
   "id": "dde0e563-11e2-4a21-a1d0-60242814723e",
   "metadata": {},
   "outputs": [
    {
     "name": "stdout",
     "output_type": "stream",
     "text": [
      "                 SNP   CHR       BP    REF    ALT     A1     A2     freq\n",
      "            <char> <int>    <int> <char> <char> <char> <char>    <num>\n",
      " chr4:76108828:G:T     4 76108828      G      T      T      G 0.398640\n",
      " chr4:76108858:G:A     4 76108858      G      A      A      G 0.399758\n",
      " chr4:76108994:G:A     4 76108994      G      A      A      G 0.155533\n",
      " chr4:76109007:G:A     4 76109007      G      A      A      G 0.154322\n",
      " chr4:76109102:C:T     4 76109102      C      T      T      C 0.154449\n",
      " chr4:76109134:C:G     4 76109134      C      G      G      C 0.155423\n",
      "              b        se        p     N CHR37     BP37          SNP_ID37\n",
      "        <num>     <num>    <num> <int> <int>    <int>            <char>\n",
      " -0.008391107 0.0218149 0.700508 26021     4 77029981 chr4:77029981:G:T\n",
      " -0.008743110 0.0218039 0.688416 26027     4 77030011 chr4:77030011:G:A\n",
      " -0.023170372 0.0294988 0.432181 26033     4 77030147 chr4:77030147:G:A\n",
      " -0.020785530 0.0296505 0.483296 26030     4 77030160 chr4:77030160:G:A\n",
      " -0.021296162 0.0296293 0.472298 26028     4 77030255 chr4:77030255:C:T\n",
      " -0.022029886 0.0295306 0.455665 26029     4 77030287 chr4:77030287:C:G\n"
     ]
    }
   ],
   "source": [
    "%%R\n",
    "\n",
    "head(gwas_lifted)"
   ]
  },
  {
   "cell_type": "code",
   "execution_count": null,
   "id": "11a8931f-70e8-4c35-b2d6-0acb330f1f60",
   "metadata": {},
   "outputs": [],
   "source": [
    "%%R\n",
    "\n",
    "## 4) Read eQTL (GRCh37) and restrict to SCARB2 gene and same window\n",
    "############################################################\n",
    "eqtl37 <- fread(eqtl37_file)\n",
    "\n",
    "head(eqtl37)"
   ]
  },
  {
   "cell_type": "code",
   "execution_count": 12,
   "id": "90009991-e599-4202-812d-6a25ea618065",
   "metadata": {},
   "outputs": [
    {
     "name": "stdout",
     "output_type": "stream",
     "text": [
      "            V1         V2    V3       V4     V5     V6      V7              V8\n",
      "       <num>     <char> <int>    <int> <char> <char>   <num>          <char>\n",
      " 9.7301e-181 rs13111888     4 77131294      A      G 28.6675 ENSG00000138760\n",
      " 4.5645e-131 rs10856883     4 77174469      A      C 24.3599 ENSG00000138760\n",
      " 6.9240e-125 rs12646113     4 77175245      T      C 23.7695 ENSG00000138760\n",
      "  1.0317e-92 rs12651582     4 77176897      T      C 20.4237 ENSG00000138760\n",
      "  1.1230e-86 rs13137733     4 77182273      T      C 19.7331 ENSG00000138760\n",
      "  1.2107e-86 rs34638846     4 77182409      G      A 19.7292 ENSG00000138760\n",
      "       V9   V10      V11   V12   V13   V14         V15\n",
      " <char> <int>    <int> <int> <int> <num>       <num>\n",
      " SCARB2     4 77107468    36 31355     0 1.2390e-172\n",
      " SCARB2     4 77107468    37 31684     0 5.8125e-123\n",
      " SCARB2     4 77107468    35 31060     0 8.8171e-117\n",
      " SCARB2     4 77107468    36 31567     0  1.3138e-84\n",
      " SCARB2     4 77107468    36 31568     0  1.4300e-78\n",
      " SCARB2     4 77107468    36 31568     0  1.5417e-78\n"
     ]
    }
   ],
   "source": [
    "%%R\n",
    "\n",
    "# Keep only rows where gene symbol is SCARB2\n",
    "scarb2_eqtl <- subset(eqtl37, V9 == \"SCARB2\")\n",
    "\n",
    "# Check how many rows\n",
    "nrow(scarb2_eqtl)\n",
    "\n",
    "# Look at first few rows\n",
    "head(scarb2_eqtl)"
   ]
  },
  {
   "cell_type": "code",
   "execution_count": 11,
   "id": "eff2b477-a6d3-4067-bbf7-7713d30c8810",
   "metadata": {},
   "outputs": [
    {
     "name": "stdout",
     "output_type": "stream",
     "text": [
      "       pvalues     SNP_ID   CHR       BP     EA    NEA   Zscore            Gene\n",
      "       <num>     <char> <int>    <int> <char> <char>    <num>          <char>\n",
      " 3.2717e-310 rs28460483     4 47915437      A      G 167.7989 ENSG00000170448\n",
      " 3.2717e-310  rs2289435     4 47880494      A      G 167.7711 ENSG00000170448\n",
      " 3.2717e-310 rs12510002     4 47886319      C      A 167.7700 ENSG00000170448\n",
      " 3.2717e-310  rs1822030     4 47907524      A      G 167.7603 ENSG00000170448\n",
      " 3.2717e-310  rs9997555     4 47881191      T      C 167.7341 ENSG00000170448\n",
      " 3.2717e-310   rs978094     4 47878305      T      C 167.5958 ENSG00000170448\n",
      "   GeneSymbol GeneChr  GenePos NrCohorts     N extra2      extra3\n",
      "     <char>   <int>    <int>     <int> <int>  <num>       <num>\n",
      "      NFXL1       4 47882955        36 31568      0 4.1662e-302\n",
      "      NFXL1       4 47882955        37 31683      0 4.1662e-302\n",
      "      NFXL1       4 47882955        37 31684      0 4.1662e-302\n",
      "      NFXL1       4 47882955        37 31683      0 4.1662e-302\n",
      "      NFXL1       4 47882955        37 31683      0 4.1662e-302\n",
      "      NFXL1       4 47882955        36 31568      0 4.1662e-302\n"
     ]
    },
    {
     "data": {
      "text/plain": [
       "|--------------------------------------------------|\n",
       "|==================================================|\n"
      ]
     },
     "metadata": {},
     "output_type": "display_data"
    }
   ],
   "source": [
    "%%R\n",
    "\n",
    "eqtl37 <- fread(eqtl37_file, header = TRUE)\n",
    "colnames(eqtl37) <- c(\"pvalues\", \"SNP_ID\", \"CHR\", \"BP\", \n",
    "                      \"EA\", \"NEA\", \"Zscore\", \"Gene\", \"GeneSymbol\", \n",
    "                      \"GeneChr\", \"GenePos\", \"NrCohorts\", \"N\", \"extra2\", \"extra3\")\n",
    "head(eqtl37)"
   ]
  },
  {
   "cell_type": "code",
   "execution_count": 12,
   "id": "dd0c5019-11ca-4e91-95d1-723c1dc01faf",
   "metadata": {},
   "outputs": [
    {
     "name": "stdout",
     "output_type": "stream",
     "text": [
      "       pvalues            SNP_ID   CHR       BP     EA    NEA   Zscore\n",
      "       <num>            <char> <int>    <int> <char> <char>    <num>\n",
      " 3.2717e-310 chr4:47915437:G:A     4 47915437      A      G 167.7989\n",
      " 3.2717e-310 chr4:47880494:G:A     4 47880494      A      G 167.7711\n",
      " 3.2717e-310 chr4:47886319:A:C     4 47886319      C      A 167.7700\n",
      " 3.2717e-310 chr4:47907524:G:A     4 47907524      A      G 167.7603\n",
      " 3.2717e-310 chr4:47881191:C:T     4 47881191      T      C 167.7341\n",
      " 3.2717e-310 chr4:47878305:C:T     4 47878305      T      C 167.5958\n",
      "              Gene GeneSymbol GeneChr  GenePos NrCohorts     N extra2\n",
      "          <char>     <char>   <int>    <int>     <int> <int>  <num>\n",
      " ENSG00000170448      NFXL1       4 47882955        36 31568      0\n",
      " ENSG00000170448      NFXL1       4 47882955        37 31683      0\n",
      " ENSG00000170448      NFXL1       4 47882955        37 31684      0\n",
      " ENSG00000170448      NFXL1       4 47882955        37 31683      0\n",
      " ENSG00000170448      NFXL1       4 47882955        37 31683      0\n",
      " ENSG00000170448      NFXL1       4 47882955        36 31568      0\n",
      "        extra3\n",
      "       <num>\n",
      " 4.1662e-302\n",
      " 4.1662e-302\n",
      " 4.1662e-302\n",
      " 4.1662e-302\n",
      " 4.1662e-302\n",
      " 4.1662e-302\n"
     ]
    }
   ],
   "source": [
    "%%R\n",
    "\n",
    "eqtl37 <- eqtl37 %>%\n",
    "  dplyr::mutate(\n",
    "    SNP_ID = paste0(\"chr\", CHR, \":\", BP, \":\", NEA, \":\", EA)\n",
    "  )\n",
    "head(eqtl37)"
   ]
  },
  {
   "cell_type": "code",
   "execution_count": 13,
   "id": "a6e78a2d-1fb6-40d6-bc49-cd975b06a73f",
   "metadata": {},
   "outputs": [],
   "source": [
    "%%R\n",
    "\n",
    "# Expect either:\n",
    "#   (A) SNP_ID, gene_id, beta, se, N\n",
    "#   or\n",
    "#   (B) SNP_ID, gene_id, p, N, MAF   (MAF strictly between 0 and 1)\n",
    "if(\"Gene\" %in% names(eqtl37)){\n",
    "  eqtl37 <- eqtl37 %>% filter(Gene == scarb2_ensg)\n",
    "}"
   ]
  },
  {
   "cell_type": "code",
   "execution_count": null,
   "id": "6c5ed591-6610-4928-b238-f2af54012f94",
   "metadata": {},
   "outputs": [],
   "source": [
    "%%R\n",
    "\n",
    "head(gwas_lifted)"
   ]
  },
  {
   "cell_type": "code",
   "execution_count": 14,
   "id": "58d83419-1dd9-4bd2-9fcd-b43b4eafe3a2",
   "metadata": {},
   "outputs": [
    {
     "name": "stdout",
     "output_type": "stream",
     "text": [
      "Number of overlapping SNPs: 742 \n"
     ]
    }
   ],
   "source": [
    "%%R\n",
    "\n",
    "############################################################\n",
    "## 5) Build coloc datasets on GRCh37 and intersect SNPs\n",
    "############################################################\n",
    "# Dataset1: GWAS (case-control)\n",
    "dataset1 <- list(\n",
    "  snp     = gwas_lifted$SNP_ID37,\n",
    "  beta    = gwas_lifted$b,\n",
    "  varbeta = (gwas_lifted$se)^2,\n",
    "  type    = \"quant\",\n",
    "  s       = prop_cases,\n",
    "  N       = gwas_lifted$N\n",
    ")\n",
    "\n",
    "# Dataset2: eQTL (quantitative)\n",
    "\n",
    "eqtl37$beta <- eqtl37$Zscore / sqrt(eqtl37$N)\n",
    "eqtl37$se   <- 1 / sqrt(eqtl37$N)\n",
    "\n",
    "dataset2 <- list(\n",
    "  snp      = eqtl37$SNP_ID,\n",
    "  beta    = eqtl37$beta,\n",
    "  varbeta = (eqtl37$se)^2,\n",
    "  N       = eqtl37$N,\n",
    "  type    = \"quant\"\n",
    ")\n",
    "\n",
    "### 2. Intersect SNPs present in both datasets\n",
    "common_snps <- intersect(gwas_lifted$SNP_ID37, eqtl37$SNP_ID)\n",
    "\n",
    "gwas_sub  <- gwas_lifted %>% filter(SNP_ID37 %in% common_snps)\n",
    "eqtl_sub  <- eqtl37 %>% filter(SNP_ID %in% common_snps)\n",
    "\n",
    "cat(\"Number of overlapping SNPs:\", nrow(gwas_sub), \"\\n\")"
   ]
  },
  {
   "cell_type": "code",
   "execution_count": 15,
   "id": "8cf254bc-f893-48e9-a3ef-3ac937fa214d",
   "metadata": {},
   "outputs": [],
   "source": [
    "%%R\n",
    "\n",
    "### 3. Build coloc datasets\n",
    "dataset1 <- list(\n",
    "  snp     = gwas_sub$SNP_ID37,\n",
    "  beta    = gwas_sub$b,\n",
    "  varbeta = (gwas_sub$se)^2,\n",
    "  type    = \"cc\",\n",
    "  s       = prop_cases,     # your proportion of cases\n",
    "  N       = gwas_sub$N\n",
    ")\n",
    "\n",
    "dataset2 <- list(\n",
    "  snp      = eqtl37$SNP_ID,\n",
    "  beta    = eqtl37$beta,\n",
    "  varbeta = (eqtl37$se)^2,\n",
    "  N       = eqtl37$N,\n",
    "  type    = \"quant\",\n",
    "  sdY     = 1\n",
    ")"
   ]
  },
  {
   "cell_type": "code",
   "execution_count": 16,
   "id": "6e24c669-6643-4054-b2b2-97c567490280",
   "metadata": {},
   "outputs": [
    {
     "name": "stdout",
     "output_type": "stream",
     "text": [
      "PP.H0.abf PP.H1.abf PP.H2.abf PP.H3.abf PP.H4.abf \n",
      "5.40e-174 2.94e-174  3.25e-01  1.76e-01  4.98e-01 \n",
      "[1] \"PP abf for shared variant: 49.8%\"\n"
     ]
    },
    {
     "data": {
      "text/plain": [
       "In addition: Warning message:\n",
       "In check_dataset(d = dataset1, 1) : minimum p value is: 1.0055e-05\n",
       "If this is what you expected, this is not a problem.\n",
       "If this is not as small as you expected, please check you supplied var(beta) and not sd(beta) for the varbeta argument. If that's not the explanation, please check the 02_data vignette.\n"
      ]
     },
     "metadata": {},
     "output_type": "display_data"
    }
   ],
   "source": [
    "%%R\n",
    "\n",
    "### 4. Run coloc\n",
    "results <- coloc.abf(dataset1, dataset2)"
   ]
  },
  {
   "cell_type": "code",
   "execution_count": 17,
   "id": "96ec7101-030d-4158-9a66-04f97295b709",
   "metadata": {},
   "outputs": [
    {
     "name": "stdout",
     "output_type": "stream",
     "text": [
      "        nsnps     PP.H0.abf     PP.H1.abf     PP.H2.abf     PP.H3.abf \n",
      " 7.420000e+02 5.396138e-174 2.937274e-174  3.251511e-01  1.764907e-01 \n",
      "    PP.H4.abf \n",
      " 4.983582e-01 \n",
      "        nsnps     PP.H0.abf     PP.H1.abf     PP.H2.abf     PP.H3.abf \n",
      " 7.420000e+02 5.396138e-174 2.937274e-174  3.251511e-01  1.764907e-01 \n",
      "    PP.H4.abf \n",
      " 4.983582e-01 \n"
     ]
    }
   ],
   "source": [
    "%%R\n",
    "\n",
    "### 5. Summarize results\n",
    "print(results$summary)\n",
    "\n",
    "# Detailed posterior probabilities\n",
    "results$summary"
   ]
  },
  {
   "cell_type": "code",
   "execution_count": 18,
   "id": "553e3eb3-9190-494a-ba6d-8ffb7c940187",
   "metadata": {},
   "outputs": [
    {
     "name": "stdout",
     "output_type": "stream",
     "text": [
      "                 SNP   CHR       BP    REF    ALT     A1     A2     freq\n",
      "            <char> <int>    <int> <char> <char> <char> <char>    <num>\n",
      " chr4:76213633:C:T     4 76213633      C      T      T      C 0.353888\n",
      "           b        se          p     N CHR37     BP37          SNP_ID37\n",
      "     <num>     <num>      <num> <int> <int>    <int>            <char>\n",
      " 0.1010302 0.0228783 1.0048e-05 25371     4 77134786 chr4:77134786:C:T\n"
     ]
    }
   ],
   "source": [
    "%%R\n",
    "gwas_sub[gwas_sub$SNP_ID37 == \"chr4:77134786:C:T\", ]"
   ]
  },
  {
   "cell_type": "code",
   "execution_count": 19,
   "id": "f14c62f8-dc11-478b-8b18-b095f38486cf",
   "metadata": {},
   "outputs": [
    {
     "name": "stdout",
     "output_type": "stream",
     "text": [
      "      pvalues            SNP_ID   CHR       BP     EA    NEA  Zscore\n",
      "      <num>            <char> <int>    <int> <char> <char>   <num>\n",
      " 1.3849e-53 chr4:77134786:C:T     4 77134786      T      C 15.4108\n",
      "              Gene GeneSymbol GeneChr  GenePos NrCohorts     N extra2\n",
      "          <char>     <char>   <int>    <int>     <int> <int>  <num>\n",
      " ENSG00000138760     SCARB2       4 77107468        35 31477      0\n",
      "       extra3       beta         se\n",
      "      <num>      <num>      <num>\n",
      " 1.7636e-45 0.08686174 0.00563642\n"
     ]
    }
   ],
   "source": [
    "%%R\n",
    "eqtl37[eqtl37$SNP_ID == \"chr4:77134786:C:T\", ]"
   ]
  },
  {
   "cell_type": "code",
   "execution_count": 20,
   "id": "104025b3-d6eb-47ab-b1c2-71525221bdba",
   "metadata": {},
   "outputs": [
    {
     "name": "stdout",
     "output_type": "stream",
     "text": [
      "PP.H0.abf PP.H1.abf PP.H2.abf PP.H3.abf PP.H4.abf \n",
      " 4.89e-49  8.41e-50  5.78e-03  0.00e+00  9.94e-01 \n",
      "[1] \"PP abf for shared variant: 99.4%\"\n",
      "       nsnps    PP.H0.abf    PP.H1.abf    PP.H2.abf    PP.H3.abf    PP.H4.abf \n",
      "1.000000e+00 4.889363e-49 8.408005e-50 5.781508e-03 0.000000e+00 9.942185e-01 \n"
     ]
    },
    {
     "data": {
      "text/plain": [
       "In addition: Warning message:\n",
       "In check_dataset(d = dataset1, 1) : minimum p value is: 1.0055e-05\n",
       "If this is what you expected, this is not a problem.\n",
       "If this is not as small as you expected, please check you supplied var(beta) and not sd(beta) for the varbeta argument. If that's not the explanation, please check the 02_data vignette.\n"
      ]
     },
     "metadata": {},
     "output_type": "display_data"
    }
   ],
   "source": [
    "%%R\n",
    "\n",
    "dataset1_rs <- list(\n",
    "  snp     = \"chr4:77134786:C:T\",\n",
    "  beta    = gwas_sub$b[gwas_sub$SNP_ID37 == \"chr4:77134786:C:T\"],\n",
    "  varbeta = (gwas_sub$se[gwas_sub$SNP_ID37 == \"chr4:77134786:C:T\"])^2,\n",
    "  type    = \"cc\",\n",
    "  s       = prop_cases,\n",
    "  N       = gwas_sub$N[gwas_sub$SNP_ID37 == \"chr4:77134786:C:T\"]\n",
    ")\n",
    "\n",
    "dataset2_rs <- list(\n",
    "  snp     = \"chr4:77134786:C:T\",\n",
    "  beta    = eqtl37$beta[eqtl37$SNP_ID == \"chr4:77134786:C:T\"],\n",
    "  varbeta = (eqtl37$se[eqtl37$SNP_ID == \"chr4:77134786:C:T\"])^2,\n",
    "  type    = \"quant\",\n",
    "  N       = eqtl37$N[eqtl37$SNP_ID == \"chr4:77134786:C:T\"],\n",
    "  sdY     = 1\n",
    ")\n",
    "\n",
    "results_rs <- coloc.abf(dataset1_rs, dataset2_rs, p12 = 1e-5)\n",
    "print(results_rs$summary)"
   ]
  },
  {
   "cell_type": "code",
   "execution_count": 21,
   "id": "29a77408-c9b2-407f-a218-eed8d99252ba",
   "metadata": {},
   "outputs": [
    {
     "name": "stdout",
     "output_type": "stream",
     "text": [
      "PP.H0.abf PP.H1.abf PP.H2.abf PP.H3.abf PP.H4.abf \n",
      " 9.72e-49  1.67e-49  1.15e-02  0.00e+00  9.89e-01 \n",
      "[1] \"PP abf for shared variant: 98.9%\"\n",
      "       nsnps    PP.H0.abf    PP.H1.abf    PP.H2.abf    PP.H3.abf    PP.H4.abf \n",
      "1.000000e+00 9.722515e-49 1.671935e-49 1.149655e-02 0.000000e+00 9.885035e-01 \n"
     ]
    },
    {
     "data": {
      "text/plain": [
       "In addition: Warning message:\n",
       "In check_dataset(d = dataset1, 1) : minimum p value is: 1.0055e-05\n",
       "If this is what you expected, this is not a problem.\n",
       "If this is not as small as you expected, please check you supplied var(beta) and not sd(beta) for the varbeta argument. If that's not the explanation, please check the 02_data vignette.\n"
      ]
     },
     "metadata": {},
     "output_type": "display_data"
    }
   ],
   "source": [
    "%%R\n",
    "results_rs_strict <- coloc.abf(dataset1_rs, dataset2_rs, p12 = 5e-6)\n",
    "print(results_rs_strict$summary)"
   ]
  },
  {
   "cell_type": "markdown",
   "id": "9d783bbc-b894-4b4a-89e0-60da888d5a57",
   "metadata": {},
   "source": [
    "use another public eqtl dataset PsychENCODE."
   ]
  },
  {
   "cell_type": "code",
   "execution_count": 39,
   "id": "0277518a-29a3-4c1c-9663-1e67a7f67020",
   "metadata": {},
   "outputs": [
    {
     "name": "stdout",
     "output_type": "stream",
     "text": [
      "--2025-09-04 15:53:46--  http://resource.psychencode.org/Datasets/Derived/QTLs/Full_hg19_cis-eQTL.txt.gz\n",
      "52.72.81.43esource.psychencode.org (resource.psychencode.org)... \n",
      "connected. to resource.psychencode.org (resource.psychencode.org)|52.72.81.43|:80... \n",
      "200 OKequest sent, awaiting response... \n",
      "Length: 3293218507 (3.1G) [application/x-gzip]\n",
      "Saving to: ‘/home/jupyter/workspace/ws_files/SCARB2/SCARB2_EUR/Full_hg19_cis-eQTL.txt.gz’\n",
      "\n",
      "Full_hg19_cis-eQTL. 100%[===================>]   3.07G  34.2MB/s    in 92s     \n",
      "\n",
      "2025-09-04 15:55:18 (34.2 MB/s) - ‘/home/jupyter/workspace/ws_files/SCARB2/SCARB2_EUR/Full_hg19_cis-eQTL.txt.gz’ saved [3293218507/3293218507]\n",
      "\n"
     ]
    }
   ],
   "source": [
    "! wget http://resource.psychencode.org/Datasets/Derived/QTLs/Full_hg19_cis-eQTL.txt.gz -P /home/jupyter/workspace/ws_files/SCARB2/SCARB2_EUR/"
   ]
  },
  {
   "cell_type": "code",
   "execution_count": 22,
   "id": "5b353dfb-b90f-4fba-9764-b24857e76014",
   "metadata": {},
   "outputs": [],
   "source": [
    "%%R\n",
    "\n",
    "############################################################\n",
    "## 1) User inputs\n",
    "############################################################\n",
    "# GWAS (GRCh38) summary stats for the SCARB2 region (tsv/csv, can be gz)\n",
    "gwas38_file <- \"/home/jupyter/workspace/ws_files/SCARB2/SCARB2_EUR/sumstats38.txt\"\n",
    "\n",
    "# eQTL (GRCh37) file for your tissue of interest\n",
    "eqtl37_file <- \"/home/jupyter/workspace/ws_files/SCARB2/SCARB2_EUR/Full_hg19_cis-eQTL.txt\"\n",
    "\n",
    "# Chain file for hg38 -> hg19 liftover (download once from UCSC and point here)\n",
    "chain_file <- \"/home/jupyter/workspace/ws_files/SCARB2/SCARB2_EUR/hg38ToHg19.over.chain\""
   ]
  },
  {
   "cell_type": "code",
   "execution_count": 23,
   "id": "dbda4498-7506-4297-9a5f-13c039247e3c",
   "metadata": {},
   "outputs": [],
   "source": [
    "%%R\n",
    "\n",
    "# SCARB2 gene & window\n",
    "gene_symbol <- \"SCARB2\"\n",
    "chr38  <- 4                    # SCARB2 chromosome on GRCh38\n",
    "gene_start38 <- 76108737       # <-- put actual GRCh38 start\n",
    "gene_end38   <- 76284536       # <-- put actual GRCh38 end\n",
    "pad <- 1e6\n",
    "\n",
    "region_start38 <- max(1, gene_start38 - pad)\n",
    "region_end38   <- gene_end38 + pad\n",
    "\n",
    "# Case/control numbers for the GWAS (needed for coloc type=\"cc\")\n",
    "n_cases    <- 24208\n",
    "n_controls <- 9662\n",
    "prop_cases <- n_cases / (n_cases + n_controls)\n",
    "\n",
    "# Priors (typical for cis-coloc)\n",
    "p1  <- 1e-4\n",
    "p2  <- 1e-4\n",
    "p12 <- 1e-5\n",
    "\n",
    "# Ensembl ID for SCARB2 (used to filter eQTL)\n",
    "scarb2_ensg <- \"ENSG00000138760.4\""
   ]
  },
  {
   "cell_type": "code",
   "execution_count": null,
   "id": "9b6ad164-799b-4739-b299-289a232afd84",
   "metadata": {},
   "outputs": [],
   "source": []
  }
 ],
 "metadata": {
  "kernelspec": {
   "display_name": "Python 3",
   "language": "python",
   "name": "python3"
  },
  "language_info": {
   "codemirror_mode": {
    "name": "ipython",
    "version": 3
   },
   "file_extension": ".py",
   "mimetype": "text/x-python",
   "name": "python",
   "nbconvert_exporter": "python",
   "pygments_lexer": "ipython3",
   "version": "3.10.17"
  }
 },
 "nbformat": 4,
 "nbformat_minor": 5
}

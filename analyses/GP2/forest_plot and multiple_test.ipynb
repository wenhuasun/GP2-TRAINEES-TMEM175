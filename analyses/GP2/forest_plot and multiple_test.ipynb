{
 "cells": [
  {
   "cell_type": "markdown",
   "id": "03343f8b-02b4-4881-9de1-4ab754aff3d4",
   "metadata": {},
   "source": [
    "Notebook Overview\n",
    "\n",
    "1. Loading Python libraries\n",
    "* Set paths\n",
    "* Make working directory\n",
    "2. Installing packages"
   ]
  },
  {
   "cell_type": "markdown",
   "id": "ade1ee8a-46cc-464e-a6cf-469534fae519",
   "metadata": {},
   "source": [
    "Loading Python libraries"
   ]
  },
  {
   "cell_type": "code",
   "execution_count": 1,
   "id": "d0494f73-f8d8-4c57-8c36-c8805c829f93",
   "metadata": {},
   "outputs": [],
   "source": [
    "# Use pathlib for file path manipulation\n",
    "import pathlib\n",
    "\n",
    "# Install numpy\n",
    "import numpy as np\n",
    "\n",
    "# Install Pandas for tabular data\n",
    "import pandas as pd\n",
    "\n",
    "# Install plotnine: a ggplot2-compatible Python plotting package\n",
    "from plotnine import *\n",
    "\n",
    "# Always show all columns in a Pandas DataFrame\n",
    "pd.set_option('display.max_columns', None)"
   ]
  },
  {
   "cell_type": "code",
   "execution_count": 2,
   "id": "21c04848-6d0f-4b99-ad91-86e9c687603e",
   "metadata": {},
   "outputs": [
    {
     "name": "stdout",
     "output_type": "stream",
     "text": [
      "Requirement already satisfied: rpy2 in /opt/conda/lib/python3.10/site-packages (3.6.1)\n",
      "Requirement already satisfied: rpy2-rinterface>=3.6.1 in /opt/conda/lib/python3.10/site-packages (from rpy2) (3.6.1)\n",
      "Requirement already satisfied: rpy2-robjects>=3.6.1 in /opt/conda/lib/python3.10/site-packages (from rpy2) (3.6.1)\n",
      "Requirement already satisfied: cffi>=1.15.1 in /opt/conda/lib/python3.10/site-packages (from rpy2-rinterface>=3.6.1->rpy2) (1.17.1)\n",
      "Requirement already satisfied: jinja2 in /opt/conda/lib/python3.10/site-packages (from rpy2-robjects>=3.6.1->rpy2) (3.1.6)\n",
      "Requirement already satisfied: tzlocal in /opt/conda/lib/python3.10/site-packages (from rpy2-robjects>=3.6.1->rpy2) (5.3.1)\n",
      "Requirement already satisfied: pycparser in /opt/conda/lib/python3.10/site-packages (from cffi>=1.15.1->rpy2-rinterface>=3.6.1->rpy2) (2.22)\n",
      "Requirement already satisfied: MarkupSafe>=2.0 in /opt/conda/lib/python3.10/site-packages (from jinja2->rpy2-robjects>=3.6.1->rpy2) (3.0.2)\n",
      "Note: you may need to restart the kernel to use updated packages.\n"
     ]
    },
    {
     "name": "stderr",
     "output_type": "stream",
     "text": [
      "/opt/conda/lib/python3.10/site-packages/rpy2/rinterface/__init__.py:1211: UserWarning: Environment variable \"R_SESSION_TMPDIR\" redefined by R and overriding existing variable. Current: \"/tmp/Rtmp8kaB5w\", R: \"/tmp/Rtmp7fO9Nh\"\n"
     ]
    }
   ],
   "source": [
    "# load R environment\n",
    "%pip install rpy2\n",
    "%load_ext rpy2.ipython"
   ]
  },
  {
   "cell_type": "code",
   "execution_count": 20,
   "id": "61ba0661-279e-41cc-b2bc-4bf07bcacd89",
   "metadata": {
    "collapsed": true,
    "jupyter": {
     "outputs_hidden": true
    }
   },
   "outputs": [
    {
     "name": "stderr",
     "output_type": "stream",
     "text": [
      "* installing *source* package ‘forestplot’ ...\n",
      "** package ‘forestplot’ successfully unpacked and MD5 sums checked\n",
      "** using staged installation\n",
      "** R\n",
      "** data\n",
      "** inst\n",
      "** byte-compile and prepare package for lazy loading\n",
      "** help\n",
      "*** installing help indices\n",
      "** building package indices\n",
      "** installing vignettes\n",
      "** testing if installed package can be loaded from temporary location\n",
      "** testing if installed package can be loaded from final location\n",
      "** testing if installed package keeps a record of temporary installation path\n",
      "* DONE (forestplot)\n"
     ]
    },
    {
     "data": {
      "text/plain": [
       "trying URL 'https://ftp.fau.de/cran/src/contrib/forestplot_3.1.7.tar.gz'\n",
       "Content type 'application/x-gzip' length 209549 bytes (204 KB)\n",
       "==================================================\n",
       "downloaded 204 KB\n",
       "\n",
       "\n",
       "The downloaded source packages are in\n",
       "\t‘/tmp/RtmpNzBu5i/downloaded_packages’\n",
       "Updating HTML index of packages in '.Library'\n",
       "Making 'packages.html' ... done\n"
      ]
     },
     "metadata": {},
     "output_type": "display_data"
    }
   ],
   "source": [
    "%%R\n",
    "install.packages(\"forestplot\") \n",
    "library(forestplot)"
   ]
  },
  {
   "cell_type": "markdown",
   "id": "904b7aa5-2cd9-4334-89ea-97f98ab8fc6b",
   "metadata": {},
   "source": [
    "Forest plot"
   ]
  },
  {
   "cell_type": "code",
   "execution_count": 25,
   "id": "34b9586c-2b97-4cfb-810f-14a2d545a6c9",
   "metadata": {},
   "outputs": [
    {
     "data": {
      "image/png": "[encoded data removed]",
      "text/plain": [
       "<IPython.core.display.Image object>"
      ]
     },
     "metadata": {},
     "output_type": "display_data"
    }
   ],
   "source": [
    "%%R\n",
    "\n",
    "variant_name <- \"rs34311866 (TMEM175 p.M393T)\"\n",
    "\n",
    "# --- your data ---\n",
    "df <- data.frame(\n",
    "  ancestry = c(\"AAC\",\"AFR\",\"AJ\",\"AMR\",\"CAS\",\"EAS\",\"EUR\",\"MDE\",\"SAS\",\"CAH\"),\n",
    "  OR       = c(0.710, NA, 1.430, 1.360, 1.060, 1.140, 1.250, 1.300, 1.830, 0.880),\n",
    "  CI_low   = c(0.430, NA, 1.130, 1.050, 0.820, 0.980, 1.190, 1.040, 1.280, 0.640),\n",
    "  CI_high  = c(1.170, NA, 1.800, 1.750, 1.370, 1.340, 1.320, 1.630, 2.610, 1.220),\n",
    "  p        = c(0.180, NA, 2.51e-03, 0.020, 0.640, 0.086, 6.07e-16, 0.019, 8.88e-04, 0.440),\n",
    "  p_adj    = c(0.41, NA, 0.023, 0.088, 0.81, 0.23, 2.79e-14, 0.088, 0.010, 0.64)\n",
    ")\n",
    "\n",
    "\n",
    "# compact, no-space labels\n",
    "# --- formatter function ---\n",
    "fmt_p <- function(x) {\n",
    "  ifelse(\n",
    "    is.na(x), \"NA\",\n",
    "    ifelse(x < 0.01,\n",
    "           formatC(x, format = \"e\", digits = 2),   # scientific for small\n",
    "           formatC(x, format = \"f\", digits = 2)    # fixed decimal otherwise\n",
    "    )\n",
    "  )\n",
    "}\n",
    "\n",
    "# apply to your labels\n",
    "lab_or   <- ifelse(is.na(df$OR), \"NA(NA–NA)\",\n",
    "                   sprintf(\"%.3f(%.3f–%.3f)\", df$OR, df$CI_low, df$CI_high))\n",
    "\n",
    "lab_pfdr <- sprintf(\"%s(%s)\", fmt_p(df$p), fmt_p(df$p_adj))\n",
    "\n",
    "\n",
    "# 3 columns\n",
    "tabletext <- rbind(\n",
    "  c(\"Ancestry\",\"OR (95% CI)\",\"P-value (FDR)\"),\n",
    "  cbind(df$ancestry, lab_or, lab_pfdr)\n",
    ")\n",
    "\n",
    "# add NA row for header\n",
    "mean  <- c(NA, df$OR)\n",
    "lower <- c(NA, df$CI_low)\n",
    "upper <- c(NA, df$CI_high)\n",
    "\n",
    "fp <- forestplot(\n",
    "  labeltext = tabletext,\n",
    "  mean = mean, lower = lower, upper = upper,\n",
    "\n",
    "  graph.pos  = 2,                       # forest between OR and P-value columns\n",
    "  graphwidth = unit(0.40, \"npc\"),       # <- wider middle panel, but stays proportional so text never disappears\n",
    "  colgap     = unit(4, \"mm\"),         # <- tiny gap: packs columns tightly\n",
    "  lineheight = unit(10, \"mm\"),         # <- denser rows\n",
    "\n",
    "  align = c(\"l\",\"l\",\"r\"),               # ancestry left; numeric columns right-aligned\n",
    "  is.summary  = c(TRUE, rep(FALSE, nrow(df))),\n",
    "  boxsize     = 0.12,\n",
    "  line.margin = 0.06,\n",
    "  clip        = c(0.5, 2.0),\n",
    "  xlog        = TRUE, zero = 1, \n",
    "  xticks      = c(0.5, 1.0, 1.5, 2.0),\n",
    "  col = fpColors(box = \"black\", line = \"black\", zero = \"grey40\"),\n",
    "  lty.zero = 3,\n",
    "  title = variant_name,\n",
    "  txt_gp = fpTxtGp(\n",
    "    label = gpar(fontfamily = \"mono\", cex = 0.78),  # small mono font = compact & aligned numbers\n",
    "    ticks  = gpar(cex = 0.85),\n",
    "    xlab   = gpar(cex = 0.95),\n",
    "    title  = gpar(fontface = \"bold\", cex = 1.05)\n",
    "  ),\n",
    "  xlab = \"OR\",\n",
    "  new_page = TRUE\n",
    ")\n",
    "\n",
    "fp"
   ]
  },
  {
   "cell_type": "code",
   "execution_count": 26,
   "id": "bc12dde1-0f6e-4a0d-bf3f-6a0393810359",
   "metadata": {},
   "outputs": [
    {
     "name": "stdout",
     "output_type": "stream",
     "text": [
      "Saved: /home/jupyter/workspace/ws_files/revision/rs34311866.png \n"
     ]
    }
   ],
   "source": [
    "%%R\n",
    "\n",
    "# 1) pick your folder\n",
    "out_dir <- \"/home/jupyter/workspace/ws_files/revision/\"     # <-- change to your folder\n",
    "dir.create(out_dir, recursive = TRUE, showWarnings = FALSE)\n",
    "\n",
    "# 2) file name\n",
    "png_path <- file.path(out_dir, \"rs34311866.png\")\n",
    "\n",
    "# 3) open device → print(fp) → close\n",
    "png(png_path, width = 3000, height = 1600, res = 300, bg = \"white\", type = \"cairo\")\n",
    "print(fp)                              # <-- IMPORTANT\n",
    "dev.off()\n",
    "\n",
    "cat(\"Saved:\", normalizePath(png_path), \"\\n\")"
   ]
  },
  {
   "cell_type": "code",
   "execution_count": 27,
   "id": "9f0feb9a-a6f8-4bc9-b74a-76c8d75c4c8f",
   "metadata": {},
   "outputs": [
    {
     "data": {
      "image/png": "[encoded data removed]",
      "text/plain": [
       "<IPython.core.display.Image object>"
      ]
     },
     "metadata": {},
     "output_type": "display_data"
    }
   ],
   "source": [
    "%%R\n",
    "\n",
    "variant_name <- \"rs34884217 (TMEM175 p.Q65P)\"\n",
    "\n",
    "# --- your data ---\n",
    "df <- data.frame(\n",
    "  ancestry = c(\"AAC\",\"AFR\",\"AJ\",\"AMR\",\"CAS\",\"EAS\",\"EUR\", \"MDE\",\"SAS\",\"CAH\"),\n",
    "  OR       = c(0.90, NA, 0.70, 1.03, 1.22, NA, 0.88, 0.66, 1.75, 1.24),\n",
    "  CI_low   = c(0.45, NA, 0.49, 0.77, 0.72, NA, 0.82, 0.47, 0.46, 0.77),\n",
    "  CI_high  = c(1.77, NA, 0.99, 1.36, 2.05, NA, 0.94, 0.93, 6.57, 1.98),\n",
    "  p        = c(0.75, NA, 0.042, 0.85, 0.46, NA, 1.70e-04, 0.019, 0.41, 0.37),\n",
    "  p_adj    = c(0.84, NA, 0.13, 0.91, 0.64, NA, 3.91e-03, 0.088, 0.64, 0.64)\n",
    ")\n",
    "\n",
    "\n",
    "# compact, no-space labels\n",
    "# --- formatter function ---\n",
    "fmt_p <- function(x) {\n",
    "  ifelse(\n",
    "    is.na(x), \"NA\",\n",
    "    ifelse(x < 0.01,\n",
    "           formatC(x, format = \"e\", digits = 2),   # scientific for small\n",
    "           formatC(x, format = \"f\", digits = 2)    # fixed decimal otherwise\n",
    "    )\n",
    "  )\n",
    "}\n",
    "\n",
    "# apply to your labels\n",
    "lab_or   <- ifelse(is.na(df$OR), \"NA(NA–NA)\",\n",
    "                   sprintf(\"%.3f(%.3f–%.3f)\", df$OR, df$CI_low, df$CI_high))\n",
    "\n",
    "lab_pfdr <- sprintf(\"%s(%s)\", fmt_p(df$p), fmt_p(df$p_adj))\n",
    "\n",
    "\n",
    "# 3 columns\n",
    "tabletext <- rbind(\n",
    "  c(\"Ancestry\",\"OR (95% CI)\",\"P-value (FDR)\"),\n",
    "  cbind(df$ancestry, lab_or, lab_pfdr)\n",
    ")\n",
    "\n",
    "# add NA row for header\n",
    "mean  <- c(NA, df$OR)\n",
    "lower <- c(NA, df$CI_low)\n",
    "upper <- c(NA, df$CI_high)\n",
    "\n",
    "fp <- forestplot(\n",
    "  labeltext = tabletext,\n",
    "  mean = mean, lower = lower, upper = upper,\n",
    "\n",
    "  graph.pos  = 2,                       # forest between OR and P-value columns\n",
    "  graphwidth = unit(0.40, \"npc\"),       # <- wider middle panel, but stays proportional so text never disappears\n",
    "  colgap     = unit(4, \"mm\"),         # <- tiny gap: packs columns tightly\n",
    "  lineheight = unit(10, \"mm\"),         # <- denser rows\n",
    "\n",
    "  align = c(\"l\",\"l\",\"r\"),               # ancestry left; numeric columns right-aligned\n",
    "  is.summary  = c(TRUE, rep(FALSE, nrow(df))),\n",
    "  boxsize     = 0.12,\n",
    "  line.margin = 0.06,\n",
    "  clip        = c(0.5, 2.0),\n",
    "  xlog        = TRUE, zero = 1, \n",
    "  xticks      = c(0.5, 1.0, 1.5, 2.0),\n",
    "  col = fpColors(box = \"black\", line = \"black\", zero = \"grey40\"),\n",
    "  lty.zero = 3,\n",
    "  title = variant_name,\n",
    "  txt_gp = fpTxtGp(\n",
    "    label = gpar(fontfamily = \"mono\", cex = 0.78),  # small mono font = compact & aligned numbers\n",
    "    ticks  = gpar(cex = 0.85),\n",
    "    xlab   = gpar(cex = 0.95),\n",
    "    title  = gpar(fontface = \"bold\", cex = 1.05)\n",
    "  ),\n",
    "  xlab = \"OR\",\n",
    "  new_page = TRUE\n",
    ")\n",
    "fp"
   ]
  },
  {
   "cell_type": "code",
   "execution_count": 28,
   "id": "29b8106d-a65e-49b2-a8ba-0b5a786da435",
   "metadata": {},
   "outputs": [
    {
     "name": "stdout",
     "output_type": "stream",
     "text": [
      "Saved: /home/jupyter/workspace/ws_files/revision/rs34884217.png \n"
     ]
    }
   ],
   "source": [
    "%%R\n",
    "\n",
    "# 1) pick your folder\n",
    "out_dir <- \"/home/jupyter/workspace/ws_files/revision/\"     # <-- change to your folder\n",
    "dir.create(out_dir, recursive = TRUE, showWarnings = FALSE)\n",
    "\n",
    "# 2) file name\n",
    "png_path <- file.path(out_dir, \"rs34884217.png\")\n",
    "\n",
    "# 3) open device → print(fp) → close\n",
    "png(png_path, width = 3000, height = 1600, res = 300, bg = \"white\", type = \"cairo\")\n",
    "print(fp)                              # <-- IMPORTANT\n",
    "dev.off()\n",
    "\n",
    "cat(\"Saved:\", normalizePath(png_path), \"\\n\")"
   ]
  },
  {
   "cell_type": "code",
   "execution_count": 29,
   "id": "fd8dbe42-6c05-420c-b3a3-a900f1c87a03",
   "metadata": {},
   "outputs": [
    {
     "data": {
      "image/png": "[encoded data removed]",
      "text/plain": [
       "<IPython.core.display.Image object>"
      ]
     },
     "metadata": {},
     "output_type": "display_data"
    }
   ],
   "source": [
    "%%R\n",
    "\n",
    "variant_name <- \"SCARB2 rs6812193\"\n",
    "\n",
    "# --- your data ---\n",
    "df <- data.frame(\n",
    "  ancestry = c(\"AAC\",\"AFR\",\"AJ\",\"AMR\",\"CAS\",\"EAS\",\"EUR\",\"MDE\",\"SAS\",\"CAH\"),\n",
    "  OR       = c(0.86, 1.02, 0.82, 0.83, 1.05, 0.90, 0.94, 0.94, 0.85, 0.84),\n",
    "  CI_low   = c(0.72, 0.90, 0.65, 0.71, 0.83, 0.74, 0.90, 0.78, 0.60, 0.67),\n",
    "  CI_high  = c(1.03, 1.15, 1.02, 0.97, 1.32, 1.09, 0.98, 1.12, 1.22, 1.07),\n",
    "  p        = c(0.43, 0.76, 0.075, 0.020, 0.69, 0.27, 7.81e-03, 0.48, 0.39, 0.15),\n",
    "  p_adj    = c(0.64, 0.84, 0.22, 0.088, 0.81, 0.52, 0.060, 0.65, 0.64, 0.36)\n",
    ")\n",
    "\n",
    "\n",
    "# compact, no-space labels\n",
    "# --- formatter function ---\n",
    "fmt_p <- function(x) {\n",
    "  ifelse(\n",
    "    is.na(x), \"NA\",\n",
    "    ifelse(x < 0.01,\n",
    "           formatC(x, format = \"e\", digits = 2),   # scientific for small\n",
    "           formatC(x, format = \"f\", digits = 2)    # fixed decimal otherwise\n",
    "    )\n",
    "  )\n",
    "}\n",
    "\n",
    "# apply to your labels\n",
    "lab_or   <- ifelse(is.na(df$OR), \"NA(NA–NA)\",\n",
    "                   sprintf(\"%.3f(%.3f–%.3f)\", df$OR, df$CI_low, df$CI_high))\n",
    "\n",
    "lab_pfdr <- sprintf(\"%s(%s)\", fmt_p(df$p), fmt_p(df$p_adj))\n",
    "\n",
    "\n",
    "# 3 columns\n",
    "tabletext <- rbind(\n",
    "  c(\"Ancestry\",\"OR (95% CI)\",\"P-value (FDR)\"),\n",
    "  cbind(df$ancestry, lab_or, lab_pfdr)\n",
    ")\n",
    "\n",
    "# add NA row for header\n",
    "mean  <- c(NA, df$OR)\n",
    "lower <- c(NA, df$CI_low)\n",
    "upper <- c(NA, df$CI_high)\n",
    "\n",
    "fp <- forestplot(\n",
    "  labeltext = tabletext,\n",
    "  mean = mean, lower = lower, upper = upper,\n",
    "\n",
    "  graph.pos  = 2,                       # forest between OR and P-value columns\n",
    "  graphwidth = unit(0.40, \"npc\"),       # <- wider middle panel, but stays proportional so text never disappears\n",
    "  colgap     = unit(4, \"mm\"),         # <- tiny gap: packs columns tightly\n",
    "  lineheight = unit(10, \"mm\"),         # <- denser rows\n",
    "\n",
    "  align = c(\"l\",\"l\",\"r\"),               # ancestry left; numeric columns right-aligned\n",
    "  is.summary  = c(TRUE, rep(FALSE, nrow(df))),\n",
    "  boxsize     = 0.12,\n",
    "  line.margin = 0.06,\n",
    "  clip        = c(0.5, 2.0),\n",
    "  xlog        = TRUE, zero = 1, \n",
    "  xticks      = c(0.5, 1.0, 1.5, 2.0),\n",
    "  col = fpColors(box = \"black\", line = \"black\", zero = \"grey40\"),\n",
    "  title = variant_name,\n",
    "  txt_gp = fpTxtGp(\n",
    "    label = gpar(fontfamily = \"mono\", cex = 0.78),  # small mono font = compact & aligned numbers\n",
    "    ticks  = gpar(cex = 0.85),\n",
    "    xlab   = gpar(cex = 0.95),\n",
    "    title  = gpar(fontface = \"bold\", cex = 1.05)\n",
    "  ),\n",
    "  xlab = \"OR\",\n",
    "  new_page = TRUE\n",
    ")\n",
    "fp"
   ]
  },
  {
   "cell_type": "code",
   "execution_count": 30,
   "id": "10f31e95-1cc9-41ca-81cb-2321a9ed7738",
   "metadata": {},
   "outputs": [
    {
     "name": "stdout",
     "output_type": "stream",
     "text": [
      "Saved: /home/jupyter/workspace/ws_files/revision/rs6812193.png \n"
     ]
    }
   ],
   "source": [
    "%%R\n",
    "\n",
    "# 1) pick your folder\n",
    "out_dir <- \"/home/jupyter/workspace/ws_files/revision/\"     # <-- change to your folder\n",
    "dir.create(out_dir, recursive = TRUE, showWarnings = FALSE)\n",
    "\n",
    "# 2) file name\n",
    "png_path <- file.path(out_dir, \"rs6812193.png\")\n",
    "\n",
    "# 3) open device → print(fp) → close\n",
    "png(png_path, width = 3000, height = 1600, res = 300, bg = \"white\", type = \"cairo\")\n",
    "print(fp)                              # <-- IMPORTANT\n",
    "dev.off()\n",
    "\n",
    "cat(\"Saved:\", normalizePath(png_path), \"\\n\")"
   ]
  },
  {
   "cell_type": "code",
   "execution_count": 31,
   "id": "928439cc-a764-45b9-8c0e-de8cc88d6e69",
   "metadata": {},
   "outputs": [
    {
     "data": {
      "image/png": "[encoded data removed]",
      "text/plain": [
       "<IPython.core.display.Image object>"
      ]
     },
     "metadata": {},
     "output_type": "display_data"
    }
   ],
   "source": [
    "%%R\n",
    "\n",
    "variant_name <- \"SCARB2 rs6825004\"\n",
    "\n",
    "# --- your data ---\n",
    "df <- data.frame(\n",
    "  ancestry = c(\"AAC\",\"AFR\",\"AJ\",\"AMR\",\"CAS\",\"EAS\",\"EUR\",\"MDE\",\"SAS\",\"CAH\"),\n",
    "  OR       = c(1.01, 1.06, 1.03, 1.02, 0.85, 1.07, 0.95, 0.80, 0.98, 0.78),\n",
    "  CI_low   = c(0.78, 0.91, 0.84, 0.91, 0.69, 0.96, 0.91, 0.66, 0.69, 0.62),\n",
    "  CI_high  = c(1.30, 1.25, 1.27, 1.15, 1.04, 1.19, 1.00, 0.97, 1.39, 0.99),\n",
    "  p        = c(0.96, 0.45, 0.77, 0.69, 0.12, 0.23, 0.036, 0.023, 0.92, 0.042),\n",
    "  p_adj    = c(0.96, 0.64, 0.84, 0.81, 0.31, 0.48, 0.13, 0.088, 0.96, 0.13)\n",
    ")\n",
    "\n",
    "\n",
    "# compact, no-space labels\n",
    "# --- formatter function ---\n",
    "fmt_p <- function(x) {\n",
    "  ifelse(\n",
    "    is.na(x), \"NA\",\n",
    "    ifelse(x < 0.01,\n",
    "           formatC(x, format = \"e\", digits = 2),   # scientific for small\n",
    "           formatC(x, format = \"f\", digits = 2)    # fixed decimal otherwise\n",
    "    )\n",
    "  )\n",
    "}\n",
    "\n",
    "# apply to your labels\n",
    "lab_or   <- ifelse(is.na(df$OR), \"NA(NA–NA)\",\n",
    "                   sprintf(\"%.3f(%.3f–%.3f)\", df$OR, df$CI_low, df$CI_high))\n",
    "\n",
    "lab_pfdr <- sprintf(\"%s(%s)\", fmt_p(df$p), fmt_p(df$p_adj))\n",
    "\n",
    "\n",
    "# 3 columns\n",
    "tabletext <- rbind(\n",
    "  c(\"Ancestry\",\"OR (95% CI)\",\"P-value (FDR)\"),\n",
    "  cbind(df$ancestry, lab_or, lab_pfdr)\n",
    ")\n",
    "\n",
    "# add NA row for header\n",
    "mean  <- c(NA, df$OR)\n",
    "lower <- c(NA, df$CI_low)\n",
    "upper <- c(NA, df$CI_high)\n",
    "\n",
    "fp <- forestplot(\n",
    "  labeltext = tabletext,\n",
    "  mean = mean, lower = lower, upper = upper,\n",
    "\n",
    "  graph.pos  = 2,                       # forest between OR and P-value columns\n",
    "  graphwidth = unit(0.40, \"npc\"),       # <- wider middle panel, but stays proportional so text never disappears\n",
    "  colgap     = unit(4, \"mm\"),         # <- tiny gap: packs columns tightly\n",
    "  lineheight = unit(10, \"mm\"),         # <- denser rows\n",
    "\n",
    "  align = c(\"l\",\"l\",\"r\"),               # ancestry left; numeric columns right-aligned\n",
    "  is.summary  = c(TRUE, rep(FALSE, nrow(df))),\n",
    "  boxsize     = 0.12,\n",
    "  line.margin = 0.06,\n",
    "  clip        = c(0.5, 2.0),\n",
    "  xlog        = TRUE, zero = 1, \n",
    "  xticks      = c(0.5, 1.0, 1.5, 2.0),\n",
    "  col = fpColors(box = \"black\", line = \"black\", zero = \"grey40\"),\n",
    "  title = variant_name,\n",
    "  txt_gp = fpTxtGp(\n",
    "    label = gpar(fontfamily = \"mono\", cex = 0.78),  # small mono font = compact & aligned numbers\n",
    "    ticks  = gpar(cex = 0.85),\n",
    "    xlab   = gpar(cex = 0.95),\n",
    "    title  = gpar(fontface = \"bold\", cex = 1.05)\n",
    "  ),\n",
    "  xlab = \"OR\",\n",
    "  new_page = TRUE\n",
    ")\n",
    "fp"
   ]
  },
  {
   "cell_type": "code",
   "execution_count": 32,
   "id": "2159ed88-fe35-40c7-8169-b867f7f446aa",
   "metadata": {},
   "outputs": [
    {
     "name": "stdout",
     "output_type": "stream",
     "text": [
      "Saved: /home/jupyter/workspace/ws_files/revision/rs6825004.png \n"
     ]
    }
   ],
   "source": [
    "%%R\n",
    "\n",
    "# 1) pick your folder\n",
    "out_dir <- \"/home/jupyter/workspace/ws_files/revision/\"     # <-- change to your folder\n",
    "dir.create(out_dir, recursive = TRUE, showWarnings = FALSE)\n",
    "\n",
    "# 2) file name\n",
    "png_path <- file.path(out_dir, \"rs6825004.png\")\n",
    "\n",
    "# 3) open device → print(fp) → close\n",
    "png(png_path, width = 3000, height = 1600, res = 300, bg = \"white\", type = \"cairo\")\n",
    "print(fp)                              # <-- IMPORTANT\n",
    "dev.off()\n",
    "\n",
    "cat(\"Saved:\", normalizePath(png_path), \"\\n\")"
   ]
  },
  {
   "cell_type": "code",
   "execution_count": 33,
   "id": "7790e020-c462-4a15-8fb7-04999fbe32ef",
   "metadata": {},
   "outputs": [
    {
     "data": {
      "image/png": "[encoded data removed]",
      "text/plain": [
       "<IPython.core.display.Image object>"
      ]
     },
     "metadata": {},
     "output_type": "display_data"
    }
   ],
   "source": [
    "%%R\n",
    "\n",
    "variant_name <- \"CTSB rs1293298\"\n",
    "\n",
    "# --- your data ---\n",
    "df <- data.frame(\n",
    "  ancestry = c(\"AAC\",\"AFR\",\"AJ\",\"AMR\",\"CAS\",\"EAS\",\"EUR\",\"MDE\",\"SAS\",\"CAH\"),\n",
    "  OR       = c(0.86, 1.08, 0.88, 0.96, 0.89, NA, 0.92, 0.94, 1.02, 0.73),\n",
    "  CI_low   = c(0.68, 0.95, 0.71, 0.79, 0.66, NA, 0.87, 0.76, 0.67, 0.56),\n",
    "  CI_high  = c(1.08, 1.23, 1.11, 1.16, 1.21, NA, 0.96, 1.15, 1.55, 0.95),\n",
    "  p        = c(0.20, 0.26, 0.29, 0.69, 0.46, NA, 5.82e-04, 0.53, 0.94, 0.021),\n",
    "  p_adj    = c(0.44, 0.52, 0.53, 0.81, 0.64, NA, 8.92e-03, 0.70, 0.96, 0.088)\n",
    ")\n",
    "\n",
    "\n",
    "# compact, no-space labels\n",
    "# --- formatter function ---\n",
    "fmt_p <- function(x) {\n",
    "  ifelse(\n",
    "    is.na(x), \"NA\",\n",
    "    ifelse(x < 0.01,\n",
    "           formatC(x, format = \"e\", digits = 2),   # scientific for small\n",
    "           formatC(x, format = \"f\", digits = 2)    # fixed decimal otherwise\n",
    "    )\n",
    "  )\n",
    "}\n",
    "\n",
    "# apply to your labels\n",
    "lab_or   <- ifelse(is.na(df$OR), \"NA(NA–NA)\",\n",
    "                   sprintf(\"%.3f(%.3f–%.3f)\", df$OR, df$CI_low, df$CI_high))\n",
    "\n",
    "lab_pfdr <- sprintf(\"%s(%s)\", fmt_p(df$p), fmt_p(df$p_adj))\n",
    "\n",
    "\n",
    "# 3 columns\n",
    "tabletext <- rbind(\n",
    "  c(\"Ancestry\",\"OR (95% CI)\",\"P-value (FDR)\"),\n",
    "  cbind(df$ancestry, lab_or, lab_pfdr)\n",
    ")\n",
    "\n",
    "# add NA row for header\n",
    "mean  <- c(NA, df$OR)\n",
    "lower <- c(NA, df$CI_low)\n",
    "upper <- c(NA, df$CI_high)\n",
    "\n",
    "fp <- forestplot(\n",
    "  labeltext = tabletext,\n",
    "  mean = mean, lower = lower, upper = upper,\n",
    "\n",
    "  graph.pos  = 2,                       # forest between OR and P-value columns\n",
    "  graphwidth = unit(0.40, \"npc\"),       # <- wider middle panel, but stays proportional so text never disappears\n",
    "  colgap     = unit(4, \"mm\"),         # <- tiny gap: packs columns tightly\n",
    "  lineheight = unit(10, \"mm\"),         # <- denser rows\n",
    "\n",
    "  align = c(\"l\",\"l\",\"r\"),               # ancestry left; numeric columns right-aligned\n",
    "  is.summary  = c(TRUE, rep(FALSE, nrow(df))),\n",
    "  boxsize     = 0.12,\n",
    "  line.margin = 0.06,\n",
    "  clip        = c(0.5, 2.0),\n",
    "  xlog        = TRUE, zero = 1, \n",
    "  xticks      = c(0.5, 1.0, 1.5, 2.0),\n",
    "  col = fpColors(box = \"black\", line = \"black\", zero = \"grey40\"),\n",
    "  title = variant_name,\n",
    "  txt_gp = fpTxtGp(\n",
    "    label = gpar(fontfamily = \"mono\", cex = 0.78),  # small mono font = compact & aligned numbers\n",
    "    ticks  = gpar(cex = 0.85),\n",
    "    xlab   = gpar(cex = 0.95),\n",
    "    title  = gpar(fontface = \"bold\", cex = 1.05)\n",
    "  ),\n",
    "  xlab = \"OR\",\n",
    "  new_page = TRUE\n",
    ")\n",
    "fp"
   ]
  },
  {
   "cell_type": "code",
   "execution_count": 34,
   "id": "b573a875-f0e6-40a9-b0b1-603ee69807bd",
   "metadata": {},
   "outputs": [
    {
     "name": "stdout",
     "output_type": "stream",
     "text": [
      "Saved: /home/jupyter/workspace/ws_files/revision/rs1293298.png \n"
     ]
    }
   ],
   "source": [
    "%%R\n",
    "\n",
    "# 1) pick your folder\n",
    "out_dir <- \"/home/jupyter/workspace/ws_files/revision/\"     # <-- change to your folder\n",
    "dir.create(out_dir, recursive = TRUE, showWarnings = FALSE)\n",
    "\n",
    "# 2) file name\n",
    "png_path <- file.path(out_dir, \"rs1293298.png\")\n",
    "\n",
    "# 3) open device → print(fp) → close\n",
    "png(png_path, width = 3000, height = 1600, res = 300, bg = \"white\", type = \"cairo\")\n",
    "print(fp)                              # <-- IMPORTANT\n",
    "dev.off()\n",
    "\n",
    "cat(\"Saved:\", normalizePath(png_path), \"\\n\")"
   ]
  },
  {
   "cell_type": "markdown",
   "id": "668885a2-20b1-4fb3-a453-01065818237b",
   "metadata": {},
   "source": [
    "Multiple test correction"
   ]
  },
  {
   "cell_type": "code",
   "execution_count": 4,
   "id": "34b848ff-2e2c-4c6e-a2c6-d51783790cf7",
   "metadata": {},
   "outputs": [
    {
     "name": "stdout",
     "output_type": "stream",
     "text": [
      " [1] 4.140000e-01           NA 2.309200e-02 8.781818e-02 8.138462e-01\n",
      " [6] 2.327059e-01 2.792200e-14 8.781818e-02 1.021200e-02 6.412121e-01\n",
      "[11] 8.433333e-01           NA 1.288000e-01 9.093023e-01 6.412121e-01\n",
      "[16]           NA 3.910000e-03 8.781818e-02 6.412121e-01 6.412121e-01\n",
      "[21] 6.412121e-01 8.433333e-01 2.156250e-01 8.781818e-02 8.138462e-01\n",
      "[26] 5.175000e-01 5.987667e-02 6.494118e-01 6.412121e-01 3.631579e-01\n",
      "[31] 9.600000e-01 6.412121e-01 8.433333e-01 8.138462e-01 3.066667e-01\n",
      "[36] 4.809091e-01 1.273846e-01 8.816667e-02 9.600000e-01 1.288000e-01\n",
      "[41] 4.380952e-01 5.175000e-01 5.336000e-01 8.138462e-01 6.412121e-01\n",
      "[46]           NA 8.924000e-03 6.965714e-01 9.600000e-01 8.781818e-02\n"
     ]
    }
   ],
   "source": [
    "%%R\n",
    "pvals_table1 <- c(0.18, NA, 2.51e-03, 0.02, 0.64, 0.086, 6.07e-16, 0.019, 8.88e-04, 0.44, 0.75, NA, 0.042, 0.85, 0.46, NA, 1.70e-04, 0.019, 0.41, 0.37, 0.43, 0.76, 0.075,0.02, 0.69,0.27,7.81e-03, 0.48, 0.39, 0.15,0.96, 0.45,0.77, 0.69, 0.12, 0.23, 0.036, 0.023, 0.92, 0.042,0.20,0.26,0.29,0.69,0.46, NA,5.82e-04,0.53,0.94,0.021) \n",
    "pvals_fdr_table1 <- p.adjust(pvals_table1, method = \"BH\")\n",
    "pvals_fdr_table1"
   ]
  },
  {
   "cell_type": "code",
   "execution_count": 154,
   "id": "8eba0701-596b-495c-90df-50dbcf236839",
   "metadata": {},
   "outputs": [
    {
     "name": "stdout",
     "output_type": "stream",
     "text": [
      " [1] 0.9573585 0.9573585 0.9573585 0.9573585 0.9573585 0.9573585 0.9573585\n",
      " [8] 0.9573585 0.9573585 0.9573585 0.9573585 0.9573585 0.9573585 0.9573585\n",
      "[15]        NA        NA 0.9573585 0.6490000 0.9573585 0.9573585 0.9573585\n",
      "[22] 0.9573585 0.1103300 0.5900000 0.9573585 0.9573585 0.3540000        NA\n",
      "[29] 0.9573585 0.9573585 0.8850000 0.7670000 0.3540000 0.3540000 0.9573585\n",
      "[36] 0.9573585        NA        NA 1.0000000 1.0000000 0.9573585 0.8850000\n",
      "[43] 1.0000000 1.0000000 0.9573585 0.9573585 0.9573585 0.8850000 0.9573585\n",
      "[50] 0.9614815 0.9573585 0.9573585 0.9573585 0.9573585 1.0000000 0.9573585\n",
      "[57] 0.9573585 0.9573585        NA        NA 0.9573585 0.9573585 0.9573585\n",
      "[64] 0.9573585 0.9573585 0.9573585\n"
     ]
    }
   ],
   "source": [
    "%%R\n",
    "pvals_table3 <- c(0.63, 0.52, 0.74, 0.74, 0.75, 0.58, 0.62, 0.83, 0.18, 0.26, 0.86, 0.40, 0.41, 0.86, NA, NA, 0.42, 0.066, 0.52, 0.55, 0.64, 0.43, 1.87e-03, 0.05, 0.78, 0.28, 0.021, NA, 0.85, 0.50, 0.13, 0.091, 0.024, 0.019, 0.52, 0.54, NA, NA, 1, 1, 0.29, 0.15, 1, 1, 0.75, 0.28, 0.83, 0.15, 0.73, 0.88, 0.75, 0.47, 0.86, 0.76, 1, 0.54, 0.57, 0.56, NA, NA, 0.40, 0.57, 0.42, 0.64, 0.73, 0.82) \n",
    "pvals_fdr_table3 <- p.adjust(pvals_table3, method = \"BH\")\n",
    "pvals_fdr_table3"
   ]
  },
  {
   "cell_type": "code",
   "execution_count": 7,
   "id": "106df39b-57a9-4d69-95d4-6d213ddff1e8",
   "metadata": {},
   "outputs": [
    {
     "name": "stdout",
     "output_type": "stream",
     "text": [
      "0      0.724773\n",
      "1      0.883253\n",
      "2           NaN\n",
      "3           NaN\n",
      "4      0.000685\n",
      "         ...   \n",
      "180    0.766711\n",
      "181    0.862643\n",
      "182         NaN\n",
      "183         NaN\n",
      "184    0.555506\n",
      "Length: 185, dtype: float64\n"
     ]
    }
   ],
   "source": [
    "# gather p vlaues from 10 ancestries\n",
    "\n",
    "# list of ancestries\n",
    "ancestries = ['AAC','AFR','AJ','AMR','CAS','EAS','EUR','MDE','SAS','CAH']\n",
    "\n",
    "# dictionary to hold pvalue vectors\n",
    "pvalues_dict = {}\n",
    "\n",
    "for ancestry in ancestries:\n",
    "    file = f'/home/jupyter/workspace/ws_files/SCARB2/SCARB2_{ancestry}/{ancestry}_SCARB2.burdenTESTSV.exonic.SingleScore.assoc.csv'\n",
    "    \n",
    "    # read file\n",
    "    df = pd.read_csv(file)\n",
    "    \n",
    "    # drop duplicates based on variant identifier\n",
    "    if {\"CHROM\",\"POS\",\"REF\",\"ALT\"}.issubset(df.columns):\n",
    "        df[\"variant_id\"] = df[\"CHROM\"].astype(str) + \":\" + df[\"POS\"].astype(str) + \":\" + df[\"REF\"] + \":\" + df[\"ALT\"]\n",
    "        df = df.drop_duplicates(subset=\"variant_id\")\n",
    "    else:\n",
    "        df = df.drop_duplicates()\n",
    "    \n",
    "    # extract PVAL column as a Series\n",
    "    pvalues_dict[ancestry] = df[\"PVALUE\"].values\n",
    "\n",
    "# now gather all as a vector (concatenate)\n",
    "pvalues_scarb2 = pd.concat([pd.Series(v) for v in pvalues_dict.values()], ignore_index=True)\n",
    "\n",
    "print(pvalues_scarb2)"
   ]
  },
  {
   "cell_type": "code",
   "execution_count": 9,
   "id": "2c4b262b-fdc8-4054-85c9-bbdc958ac44f",
   "metadata": {},
   "outputs": [],
   "source": [
    "# make sure it's a plain numpy array\n",
    "pvals_np = pvalues_scarb2.values"
   ]
  },
  {
   "cell_type": "code",
   "execution_count": 10,
   "id": "88f1dc9f-0c3b-40ed-9444-9b6a071c5fe7",
   "metadata": {},
   "outputs": [
    {
     "name": "stdout",
     "output_type": "stream",
     "text": [
      "  [1] 9.976500e-01 9.976500e-01          NaN          NaN 1.945471e-02\n",
      "  [6] 7.644726e-06 9.976500e-01 2.915118e-02 9.976500e-01 9.976500e-01\n",
      " [11] 1.883871e-01 9.976500e-01 9.976500e-01          NaN 9.976500e-01\n",
      " [16] 9.976500e-01 9.976500e-01 7.493293e-05 9.976500e-01 9.976500e-01\n",
      " [21] 9.976500e-01 9.976500e-01 9.976500e-01 9.976500e-01 9.976500e-01\n",
      " [26]          NaN 9.976500e-01 9.976500e-01 9.976500e-01 9.976500e-01\n",
      " [31] 9.976500e-01 9.976500e-01 9.976500e-01 9.976500e-01 9.976500e-01\n",
      " [36] 9.976500e-01 9.976500e-01          NaN 9.976500e-01          NaN\n",
      " [41] 3.258016e-01          NaN          NaN 9.976500e-01 7.537512e-01\n",
      " [46]          NaN          NaN 9.976500e-01 9.976500e-01 9.976500e-01\n",
      " [51] 9.976500e-01 1.731576e-02          NaN 9.976500e-01 9.976500e-01\n",
      " [56] 9.976500e-01 9.976500e-01 9.976500e-01 9.976500e-01 9.976500e-01\n",
      " [61] 9.976500e-01          NaN 9.976500e-01          NaN 9.976500e-01\n",
      " [66]          NaN          NaN 9.647622e-01 8.807708e-01 9.976500e-01\n",
      " [71] 7.506295e-01 9.976500e-01          NaN 9.976500e-01 9.976500e-01\n",
      " [76] 9.976500e-01 9.976500e-01          NaN 9.976500e-01 8.807708e-01\n",
      " [81] 9.976500e-01 9.976500e-01 9.976500e-01 9.976500e-01 9.976500e-01\n",
      " [86] 2.715839e-01 9.976500e-01 9.976500e-01 9.976500e-01 3.425409e-01\n",
      " [91]          NaN 9.976500e-01 9.976500e-01          NaN          NaN\n",
      " [96]          NaN 9.976500e-01 9.976500e-01 9.976500e-01 9.976500e-01\n",
      "[101] 9.976500e-01 9.976500e-01 9.976500e-01 9.976500e-01 9.976500e-01\n",
      "[106] 9.976500e-01 9.976500e-01 9.976500e-01 9.976500e-01 9.976500e-01\n",
      "[111] 9.976500e-01 9.976500e-01          NaN 9.976500e-01 8.807708e-01\n",
      "[116] 9.406155e-01          NaN 9.976500e-01 9.976500e-01 9.976500e-01\n",
      "[121] 9.976500e-01 9.976500e-01 7.506295e-01 9.976500e-01 9.976500e-01\n",
      "[126] 9.976500e-01 9.976500e-01 9.976500e-01          NaN 8.131649e-01\n",
      "[131] 9.976500e-01 9.976500e-01 9.976500e-01 9.976500e-01 9.976500e-01\n",
      "[136] 9.976500e-01 9.976500e-01 9.976500e-01 9.976500e-01 9.976500e-01\n",
      "[141]          NaN 9.976500e-01          NaN          NaN 9.976500e-01\n",
      "[146] 8.627352e-06          NaN 9.976500e-01          NaN          NaN\n",
      "[151]          NaN          NaN          NaN 9.976500e-01 9.976500e-01\n",
      "[156]          NaN 9.976500e-01 9.976500e-01 9.976500e-01          NaN\n",
      "[161] 9.976500e-01 9.976500e-01 7.506295e-01          NaN 9.976500e-01\n",
      "[166] 9.976500e-01 9.976500e-01          NaN          NaN 9.976500e-01\n",
      "[171]          NaN          NaN 9.976500e-01 9.976500e-01 9.976500e-01\n",
      "[176]          NaN 9.976500e-01 9.976500e-01 9.976500e-01 9.976500e-01\n",
      "[181] 9.976500e-01 9.976500e-01          NaN          NaN 9.976500e-01\n"
     ]
    }
   ],
   "source": [
    "%%R -i pvals_np\n",
    "pvals_fdr_table4 <- p.adjust(pvals_np, method = \"BH\")\n",
    "pvals_fdr_table4"
   ]
  }
 ],
 "metadata": {
  "kernelspec": {
   "display_name": "Python 3",
   "language": "python",
   "name": "python3"
  },
  "language_info": {
   "codemirror_mode": {
    "name": "ipython",
    "version": 3
   },
   "file_extension": ".py",
   "mimetype": "text/x-python",
   "name": "python",
   "nbconvert_exporter": "python",
   "pygments_lexer": "ipython3",
   "version": "3.10.17"
  }
 },
 "nbformat": 4,
 "nbformat_minor": 5
}
